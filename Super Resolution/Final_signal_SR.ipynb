{
  "nbformat": 4,
  "nbformat_minor": 0,
  "metadata": {
    "colab": {
      "name": "Final_signal_SR.ipynb",
      "provenance": [],
      "collapsed_sections": [
        "-dS6pXV-u1Y5",
        "3qZWWbvHhKww",
        "S-KBkHTRwmeS",
        "lJM3U3rp4YKw"
      ],
      "toc_visible": true
    },
    "kernelspec": {
      "name": "python3",
      "display_name": "Python 3"
    },
    "language_info": {
      "name": "python"
    },
    "accelerator": "GPU"
  },
  "cells": [
    {
      "cell_type": "markdown",
      "metadata": {
        "id": "-dS6pXV-u1Y5"
      },
      "source": [
        "#Mount drive"
      ]
    },
    {
      "cell_type": "code",
      "metadata": {
        "id": "2z8vILKztUp_",
        "colab": {
          "base_uri": "https://localhost:8080/"
        },
        "outputId": "d59d8302-723e-41ae-e61b-ad19ac2f0920"
      },
      "source": [
        "from google.colab import drive\n",
        "drive.mount(\"/content/drive\", force_remount=True)"
      ],
      "execution_count": null,
      "outputs": [
        {
          "output_type": "stream",
          "text": [
            "Mounted at /content/drive\n"
          ],
          "name": "stdout"
        }
      ]
    },
    {
      "cell_type": "code",
      "metadata": {
        "id": "vSg1FDKGuOjW",
        "colab": {
          "base_uri": "https://localhost:8080/"
        },
        "outputId": "736f7a53-00a9-44fd-c89e-24dd7e22c055"
      },
      "source": [
        "!ls \"/content/drive/My Drive/\""
      ],
      "execution_count": null,
      "outputs": [
        {
          "output_type": "stream",
          "text": [
            "cpsc_leadclass_balanced_labels.npy  gtdata_lead_4.npy  labels_lead2.npy\n",
            "cpsc_leadclass_balanced.npy\t    gtdata_lead_5.npy  labels_lead3.npy\n",
            "ecgsrcnn_250_labels.npy\t\t    gtdata_lead_6.npy  labels_lead4.npy\n",
            "ecgsrcnn_250op.npy\t\t    gtdata_lead_7.npy  labels_lead5.npy\n",
            "gtdata_lead_0.npy\t\t    gtdata_lead_8.npy  labels_lead6.npy\n",
            "gtdata_lead_10.npy\t\t    gtdata_lead_9.npy  labels_lead7.npy\n",
            "gtdata_lead_11.npy\t\t    labels_lead0.npy   labels_lead8.npy\n",
            "gtdata_lead_1.npy\t\t    labels_lead10.npy  labels_lead9.npy\n",
            "gtdata_lead_2.npy\t\t    labels_lead11.npy\n",
            "gtdata_lead_3.npy\t\t    labels_lead1.npy\n"
          ],
          "name": "stdout"
        }
      ]
    },
    {
      "cell_type": "code",
      "metadata": {
        "id": "UDa94CvTy7dH",
        "colab": {
          "base_uri": "https://localhost:8080/"
        },
        "outputId": "50fc8aa0-6148-4144-ec80-0ffa8998f370"
      },
      "source": [
        "!ls \"/content/drive/My Drive/Leadwise_data\""
      ],
      "execution_count": null,
      "outputs": [
        {
          "output_type": "stream",
          "text": [
            "gtdata_lead_0.npy   gtdata_lead_1.npy  gtdata_lead_4.npy  gtdata_lead_7.npy\n",
            "gtdata_lead_10.npy  gtdata_lead_2.npy  gtdata_lead_5.npy  gtdata_lead_8.npy\n",
            "gtdata_lead_11.npy  gtdata_lead_3.npy  gtdata_lead_6.npy  gtdata_lead_9.npy\n"
          ],
          "name": "stdout"
        }
      ]
    },
    {
      "cell_type": "markdown",
      "metadata": {
        "id": "S-KBkHTRwmeS"
      },
      "source": [
        "#Accessing  data directly from drive"
      ]
    },
    {
      "cell_type": "code",
      "metadata": {
        "colab": {
          "base_uri": "https://localhost:8080/"
        },
        "id": "MHmGFyM-9flO",
        "outputId": "0355ed76-d288-4b59-f5a1-157791cefcc3"
      },
      "source": [
        "#This is for the imbalanced dataset \n",
        "import numpy as np\n",
        "\n",
        "gt_ecg_data = np.load(\"/content/drive/My Drive/gt_set.npy\")\n",
        "down_250_ecg_set = np.load(\"/content/drive/My Drive/down250_set.npy\")\n",
        "\n",
        "print(len(gt_ecg_data))\n",
        "print(gt_ecg_data.dtype)\n",
        "print(gt_ecg_data.shape)"
      ],
      "execution_count": null,
      "outputs": [
        {
          "output_type": "stream",
          "text": [
            "82524\n"
          ],
          "name": "stdout"
        },
        {
          "output_type": "execute_result",
          "data": {
            "text/plain": [
              "dtype('float32')"
            ]
          },
          "metadata": {
            "tags": []
          },
          "execution_count": 170
        }
      ]
    },
    {
      "cell_type": "code",
      "metadata": {
        "id": "_3C6DfmH0KBD"
      },
      "source": [
        "#This is for the balanced dataset \n",
        "\n",
        "import numpy as np\n",
        "from scipy.signal import resample_poly\n",
        "\n",
        "down_250set = []\n",
        "down_125set = []\n",
        "down_100set = []\n",
        "\n",
        "gt_data = np.load(\"/content/drive/My Drive/Leadwise_data/cpsc_leadclass_balanced.npy\")\n",
        "lead_output_labels = np.load(\"/content/drive/My Drive/Leadwise_data/cpsc_leadclass_balanced_labels.npy\")\n",
        "\n",
        "for entry in gt_data:\n",
        "  down_250set.append(resample_poly(entry,up=250,down=500))\n",
        "  down_125set.append(resample_poly(entry,up=125,down=500))\n",
        "  down_100set.append(resample_poly(entry,up=100,down=500))"
      ],
      "execution_count": null,
      "outputs": []
    },
    {
      "cell_type": "code",
      "metadata": {
        "id": "dwLwC9lx-4so"
      },
      "source": [
        "down_ecg_set = np.array(down_100set)"
      ],
      "execution_count": null,
      "outputs": []
    },
    {
      "cell_type": "code",
      "metadata": {
        "id": "IUc_SsBebu--"
      },
      "source": [
        "import numpy as np\n",
        "\n",
        "cpsc_labels = lead_output_labels"
      ],
      "execution_count": null,
      "outputs": []
    },
    {
      "cell_type": "code",
      "metadata": {
        "colab": {
          "base_uri": "https://localhost:8080/"
        },
        "id": "ThzVZKPFgNnG",
        "outputId": "7330634f-62a9-4113-d2fa-34c41ee9c50e"
      },
      "source": [
        "print(len(gt_data))\n",
        "print(len(down_ecg_set))\n",
        "print(len(cpsc_labels))"
      ],
      "execution_count": null,
      "outputs": [
        {
          "output_type": "stream",
          "text": [
            "21816\n",
            "21816\n",
            "21816\n"
          ],
          "name": "stdout"
        }
      ]
    },
    {
      "cell_type": "code",
      "metadata": {
        "id": "whzxTZNnkUe7"
      },
      "source": [
        "temp = list(zip(gt_data,cpsc_labels))"
      ],
      "execution_count": null,
      "outputs": []
    },
    {
      "cell_type": "code",
      "metadata": {
        "colab": {
          "base_uri": "https://localhost:8080/"
        },
        "id": "BxSbdiOMmPb_",
        "outputId": "ee02e271-048d-4278-ae4e-5bc3609dd87c"
      },
      "source": [
        "len(temp)"
      ],
      "execution_count": null,
      "outputs": [
        {
          "output_type": "execute_result",
          "data": {
            "text/plain": [
              "21816"
            ]
          },
          "metadata": {
            "tags": []
          },
          "execution_count": 34
        }
      ]
    },
    {
      "cell_type": "markdown",
      "metadata": {
        "id": "lJM3U3rp4YKw"
      },
      "source": [
        "##Restrict to 5 classes"
      ]
    },
    {
      "cell_type": "markdown",
      "metadata": {
        "id": "gzAVPAAu4mz8"
      },
      "source": [
        "Required only for ablation study"
      ]
    },
    {
      "cell_type": "code",
      "metadata": {
        "id": "OZuqgLKhKuCt"
      },
      "source": [
        "import numpy as np\n",
        "\n",
        "gt_ecg_data = gt_data[:4622]\n",
        "down_250_ecg_set = np.array(down_250set[:4622])"
      ],
      "execution_count": null,
      "outputs": []
    },
    {
      "cell_type": "code",
      "metadata": {
        "colab": {
          "base_uri": "https://localhost:8080/"
        },
        "id": "QatcYDhfR8OL",
        "outputId": "80e426cd-00b3-4f74-e061-5d215f7bb841"
      },
      "source": [
        "print(gt_ecg_data.shape)\n",
        "print(down_250_ecg_set.shape)"
      ],
      "execution_count": null,
      "outputs": [
        {
          "output_type": "stream",
          "text": [
            "(4622, 3000)\n",
            "(4622, 1500)\n"
          ],
          "name": "stdout"
        }
      ]
    },
    {
      "cell_type": "markdown",
      "metadata": {
        "id": "0yCQF95b34is"
      },
      "source": [
        "##Data split-balanced"
      ]
    },
    {
      "cell_type": "code",
      "metadata": {
        "id": "cEHUzd3m1Kmf"
      },
      "source": [
        "from sklearn.utils import shuffle\n",
        "\n",
        "X_shuffled,y_shuffled = shuffle(down_ecg_set,temp, random_state=42)\n",
        "down_final = X_shuffled[:1500]\n",
        "gt_final = y_shuffled[:1500]"
      ],
      "execution_count": null,
      "outputs": []
    },
    {
      "cell_type": "code",
      "metadata": {
        "id": "wLG98ctF18Ca"
      },
      "source": [
        "from sklearn.model_selection import train_test_split\n",
        "\n",
        "down_ecg_train, X_test_temp, gt_set_train, y_test_temp = train_test_split(down_final, gt_final, test_size=0.3, random_state=42)\n",
        "\n",
        "down_ecg_validate,down_ecg_test,gt_set_validate,gt_set_test = train_test_split(X_test_temp,y_test_temp,test_size=0.5, random_state=42)"
      ],
      "execution_count": null,
      "outputs": []
    },
    {
      "cell_type": "code",
      "metadata": {
        "colab": {
          "base_uri": "https://localhost:8080/"
        },
        "id": "eqSAiCrd2D-U",
        "outputId": "70256203-ecdd-45c7-cd33-4735ea7c3dfd"
      },
      "source": [
        "down_ecg_train.shape"
      ],
      "execution_count": null,
      "outputs": [
        {
          "output_type": "execute_result",
          "data": {
            "text/plain": [
              "(1050, 600)"
            ]
          },
          "metadata": {
            "tags": []
          },
          "execution_count": 37
        }
      ]
    },
    {
      "cell_type": "markdown",
      "metadata": {
        "id": "XnLUe9nWhus0"
      },
      "source": [
        "#Network\n"
      ]
    },
    {
      "cell_type": "markdown",
      "metadata": {
        "id": "uK97n2rVb3lT"
      },
      "source": [
        "###Imports"
      ]
    },
    {
      "cell_type": "code",
      "metadata": {
        "id": "epipo8eARJNi"
      },
      "source": [
        "import tensorflow as tf\n",
        "import tensorflow.keras.backend as K\n",
        "from tensorflow.keras.models import Model, Sequential\n",
        "from tensorflow.keras.layers import Input, Dense, Conv1D, Conv1DTranspose\n",
        "from tensorflow.keras.layers import BatchNormalization, MaxPool1D, UpSampling1D\n",
        "from tensorflow.keras.layers import Concatenate, Add, Dropout, ReLU, Lambda, Activation, LeakyReLU, PReLU, Subtract, Reshape\n",
        "from IPython.display import SVG\n",
        "from keras.layers.core import Activation\n",
        "from tensorflow.keras.optimizers import Adam, SGD\n",
        "\n",
        "from time import time\n",
        "import numpy as np"
      ],
      "execution_count": null,
      "outputs": []
    },
    {
      "cell_type": "markdown",
      "metadata": {
        "id": "5_NUzOLFxnqD"
      },
      "source": [
        "##ECG-SRCNN\n"
      ]
    },
    {
      "cell_type": "markdown",
      "metadata": {
        "id": "JL_sLrhQk5bK"
      },
      "source": [
        "Ths is the final network that is utilised for performing the super-resolution task."
      ]
    },
    {
      "cell_type": "code",
      "metadata": {
        "id": "tVDnes9225RZ"
      },
      "source": [
        "def net_sr(input_shape=(1500,1), n_classes=1,scale_param=2):\n",
        "  input = Input(input_shape)\n",
        "  x = input\n",
        "  x1 = UpSampling1D(size=scale_param)(x)\n",
        "  x2 = Conv1D(64, 9, kernel_initializer = \"he_normal\",padding='same')(x1)\n",
        "  x2 = Activation(\"relu\")(x2)\n",
        "  x2 = Conv1D(64, 9, kernel_initializer = \"he_normal\",padding='same')(x2)\n",
        "  x2 = Activation(\"relu\")(x2)\n",
        "  x2 = Conv1D(32, 1, kernel_initializer = \"he_normal\",padding='same')(x2)\n",
        "  x2 = Activation(\"relu\")(x2)\n",
        "  x2 = Conv1D(32, 1, kernel_initializer = \"he_normal\",padding='same')(x2)\n",
        "  x2 = Activation(\"relu\")(x2)\n",
        "  x2 = Conv1D(1, 5, kernel_initializer = \"he_normal\",padding='same')(x2)\n",
        "  x2 = Activation(\"relu\")(x2)\n",
        "  x3 = Add()([x1,x2])\n",
        "  output = Dense(n_classes)(x3)\n",
        "  model = Model(input, output)\n",
        "  return model"
      ],
      "execution_count": null,
      "outputs": []
    },
    {
      "cell_type": "markdown",
      "metadata": {
        "id": "QeVP2u53xrHf"
      },
      "source": [
        "##1D-SRCNN"
      ]
    },
    {
      "cell_type": "markdown",
      "metadata": {
        "id": "dVXDGX9qlJv5"
      },
      "source": [
        "This network was the starting point in the development of ECG-SRCNN. This is also utilized for the ablation/performance comparison study."
      ]
    },
    {
      "cell_type": "code",
      "metadata": {
        "id": "zzCziFug0I1l"
      },
      "source": [
        "def new_net_sr(input_shape=(1500,1), n_classes=1,scale_param=2):\n",
        "  input = Input(input_shape)\n",
        "  x = input\n",
        "  x1 = UpSampling1D(size=scale_param)(x)\n",
        "  x2 = Conv1D(64, 9, kernel_initializer = \"he_normal\",padding='same')(x1)\n",
        "  x2 = Activation(\"relu\")(x2)\n",
        "  x2 = Conv1D(32, 1, kernel_initializer = \"he_normal\",padding='same')(x2)\n",
        "  x2 = Activation(\"relu\")(x2)\n",
        "  x2 = Conv1D(1, 5, kernel_initializer = \"he_normal\",padding='same')(x2)\n",
        "  x2 = Activation(\"relu\")(x2)\n",
        "  x3 = Add()([x1,x2])\n",
        "  output = Dense(n_classes)(x3)\n",
        "  model = Model(input, output)\n",
        "  return model"
      ],
      "execution_count": null,
      "outputs": []
    },
    {
      "cell_type": "markdown",
      "metadata": {
        "id": "RNeO12WLx9b1"
      },
      "source": [
        "##Get model"
      ]
    },
    {
      "cell_type": "code",
      "metadata": {
        "colab": {
          "base_uri": "https://localhost:8080/"
        },
        "id": "nIZjZhd_0ysM",
        "outputId": "c7eaddcf-ab5d-4021-a618-5b6f79f03993"
      },
      "source": [
        "K.clear_session()\n",
        "input_shape = (600, 1)\n",
        "new_model = net_sr(input_shape = input_shape,scale_param=5)\n",
        "new_model.summary()"
      ],
      "execution_count": null,
      "outputs": [
        {
          "output_type": "stream",
          "text": [
            "Model: \"model\"\n",
            "__________________________________________________________________________________________________\n",
            "Layer (type)                    Output Shape         Param #     Connected to                     \n",
            "==================================================================================================\n",
            "input_1 (InputLayer)            [(None, 600, 1)]     0                                            \n",
            "__________________________________________________________________________________________________\n",
            "up_sampling1d (UpSampling1D)    (None, 3000, 1)      0           input_1[0][0]                    \n",
            "__________________________________________________________________________________________________\n",
            "conv1d (Conv1D)                 (None, 3000, 64)     640         up_sampling1d[0][0]              \n",
            "__________________________________________________________________________________________________\n",
            "tf.nn.relu (TFOpLambda)         (None, 3000, 64)     0           conv1d[0][0]                     \n",
            "__________________________________________________________________________________________________\n",
            "conv1d_1 (Conv1D)               (None, 3000, 64)     36928       tf.nn.relu[0][0]                 \n",
            "__________________________________________________________________________________________________\n",
            "tf.nn.relu_1 (TFOpLambda)       (None, 3000, 64)     0           conv1d_1[0][0]                   \n",
            "__________________________________________________________________________________________________\n",
            "conv1d_2 (Conv1D)               (None, 3000, 32)     2080        tf.nn.relu_1[0][0]               \n",
            "__________________________________________________________________________________________________\n",
            "tf.nn.relu_2 (TFOpLambda)       (None, 3000, 32)     0           conv1d_2[0][0]                   \n",
            "__________________________________________________________________________________________________\n",
            "conv1d_3 (Conv1D)               (None, 3000, 32)     1056        tf.nn.relu_2[0][0]               \n",
            "__________________________________________________________________________________________________\n",
            "tf.nn.relu_3 (TFOpLambda)       (None, 3000, 32)     0           conv1d_3[0][0]                   \n",
            "__________________________________________________________________________________________________\n",
            "conv1d_4 (Conv1D)               (None, 3000, 1)      161         tf.nn.relu_3[0][0]               \n",
            "__________________________________________________________________________________________________\n",
            "tf.nn.relu_4 (TFOpLambda)       (None, 3000, 1)      0           conv1d_4[0][0]                   \n",
            "__________________________________________________________________________________________________\n",
            "add (Add)                       (None, 3000, 1)      0           up_sampling1d[0][0]              \n",
            "                                                                 tf.nn.relu_4[0][0]               \n",
            "__________________________________________________________________________________________________\n",
            "dense (Dense)                   (None, 3000, 1)      2           add[0][0]                        \n",
            "==================================================================================================\n",
            "Total params: 40,867\n",
            "Trainable params: 40,867\n",
            "Non-trainable params: 0\n",
            "__________________________________________________________________________________________________\n"
          ],
          "name": "stdout"
        }
      ]
    },
    {
      "cell_type": "markdown",
      "metadata": {
        "id": "KKc-Thve93Sz"
      },
      "source": [
        "##Compile and train"
      ]
    },
    {
      "cell_type": "code",
      "metadata": {
        "id": "0KUGU_PblrHH"
      },
      "source": [
        "gt_train = []\n",
        "labels_train = []\n",
        "gt_val = []\n",
        "labels_val = []\n",
        "gt_test = []\n",
        "labels_test = []\n",
        "\n",
        "for item in gt_set_train:\n",
        "  gt_train.append(item[0])\n",
        "  labels_train.append(item[1])\n",
        "\n",
        "for item in gt_set_validate:\n",
        "  gt_val.append(item[0])\n",
        "  labels_val.append(item[1])\n",
        "\n",
        "for item in gt_set_test:\n",
        "  gt_test.append(item[0])\n",
        "  labels_test.append(item[1])"
      ],
      "execution_count": null,
      "outputs": []
    },
    {
      "cell_type": "code",
      "metadata": {
        "id": "_vvXyetvo01I"
      },
      "source": [
        "gt_train = np.array(gt_train)\n",
        "labels_train = np.array(labels_train)\n",
        "gt_val = np.array(gt_val)\n",
        "labels_val = np.array(labels_val)\n",
        "gt_test = np.array(gt_test)\n",
        "labels_test = np.array(labels_test)"
      ],
      "execution_count": null,
      "outputs": []
    },
    {
      "cell_type": "code",
      "metadata": {
        "id": "1Szya6qC5ere"
      },
      "source": [
        "opt = Adam(learning_rate = 0.01)\n",
        "new_model.compile(loss = \"mse\", optimizer = opt)"
      ],
      "execution_count": null,
      "outputs": []
    },
    {
      "cell_type": "code",
      "metadata": {
        "id": "fFtUOKeD2MHi",
        "colab": {
          "base_uri": "https://localhost:8080/"
        },
        "outputId": "7ce4fdad-109c-45e5-ce4c-3631a5cfdab6"
      },
      "source": [
        "new_model.fit(down_ecg_train,gt_train,epochs=10,batch_size=32,validation_data=(down_ecg_validate, gt_val),verbose = 1)"
      ],
      "execution_count": null,
      "outputs": [
        {
          "output_type": "stream",
          "text": [
            "Epoch 1/10\n",
            "33/33 [==============================] - 2s 37ms/step - loss: 0.2833 - val_loss: 0.2351\n",
            "Epoch 2/10\n",
            "33/33 [==============================] - 1s 21ms/step - loss: 0.2085 - val_loss: 0.1747\n",
            "Epoch 3/10\n",
            "33/33 [==============================] - 1s 21ms/step - loss: 0.1541 - val_loss: 0.1251\n",
            "Epoch 4/10\n",
            "33/33 [==============================] - 1s 21ms/step - loss: 0.1101 - val_loss: 0.0903\n",
            "Epoch 5/10\n",
            "33/33 [==============================] - 1s 21ms/step - loss: 0.0788 - val_loss: 0.0624\n",
            "Epoch 6/10\n",
            "33/33 [==============================] - 1s 21ms/step - loss: 0.0547 - val_loss: 0.0440\n",
            "Epoch 7/10\n",
            "33/33 [==============================] - 1s 21ms/step - loss: 0.0381 - val_loss: 0.0312\n",
            "Epoch 8/10\n",
            "33/33 [==============================] - 1s 22ms/step - loss: 0.0271 - val_loss: 0.0217\n",
            "Epoch 9/10\n",
            "33/33 [==============================] - 1s 22ms/step - loss: 0.0196 - val_loss: 0.0159\n",
            "Epoch 10/10\n",
            "33/33 [==============================] - 1s 21ms/step - loss: 0.0148 - val_loss: 0.0123\n"
          ],
          "name": "stdout"
        },
        {
          "output_type": "execute_result",
          "data": {
            "text/plain": [
              "<tensorflow.python.keras.callbacks.History at 0x7fe544df6650>"
            ]
          },
          "metadata": {
            "tags": []
          },
          "execution_count": 44
        }
      ]
    },
    {
      "cell_type": "markdown",
      "metadata": {
        "id": "rC4XwIiibAu5"
      },
      "source": [
        "##Saving the model for later usage and plot\n"
      ]
    },
    {
      "cell_type": "code",
      "metadata": {
        "id": "9qW0afM-bDzn",
        "colab": {
          "base_uri": "https://localhost:8080/"
        },
        "outputId": "58f694f0-3e04-4496-a580-eac85fff257f"
      },
      "source": [
        "new_model.save('ECG_srcnn_100Hz.h5') "
      ],
      "execution_count": null,
      "outputs": [
        {
          "output_type": "stream",
          "text": [
            "/usr/local/lib/python3.7/dist-packages/tensorflow/python/keras/utils/generic_utils.py:497: CustomMaskWarning: Custom mask layers require a config and must override get_config. When loading, the custom mask layer must be passed to the custom_objects argument.\n",
            "  category=CustomMaskWarning)\n"
          ],
          "name": "stderr"
        }
      ]
    },
    {
      "cell_type": "code",
      "metadata": {
        "colab": {
          "base_uri": "https://localhost:8080/",
          "height": 35
        },
        "id": "JVGgzv9TL5WO",
        "outputId": "f3ffa2c8-2b83-4784-c6b6-3de296da1ce6"
      },
      "source": [
        "import shutil\n",
        "\n",
        "shutil.move('ECG_srcnn_100Hz.h5', \"/content/drive/My Drive/\")"
      ],
      "execution_count": null,
      "outputs": [
        {
          "output_type": "execute_result",
          "data": {
            "application/vnd.google.colaboratory.intrinsic+json": {
              "type": "string"
            },
            "text/plain": [
              "'/content/drive/My Drive/ECG_srcnn_100Hz.h5'"
            ]
          },
          "metadata": {
            "tags": []
          },
          "execution_count": 51
        }
      ]
    },
    {
      "cell_type": "code",
      "metadata": {
        "id": "le2Uo9xO23GM",
        "colab": {
          "base_uri": "https://localhost:8080/"
        },
        "outputId": "520b9550-a187-4a80-d1bd-bda7ad63fd97"
      },
      "source": [
        "new_model.evaluate(down_ecg_test,gt_test)"
      ],
      "execution_count": null,
      "outputs": [
        {
          "output_type": "stream",
          "text": [
            "8/8 [==============================] - 0s 9ms/step - loss: 0.0135\n"
          ],
          "name": "stdout"
        },
        {
          "output_type": "execute_result",
          "data": {
            "text/plain": [
              "0.013490697368979454"
            ]
          },
          "metadata": {
            "tags": []
          },
          "execution_count": 45
        }
      ]
    },
    {
      "cell_type": "code",
      "metadata": {
        "id": "s65F0e_U3u22"
      },
      "source": [
        "sr_output = new_model.predict(down_ecg_test)"
      ],
      "execution_count": null,
      "outputs": []
    },
    {
      "cell_type": "code",
      "metadata": {
        "colab": {
          "base_uri": "https://localhost:8080/",
          "height": 902
        },
        "id": "-qt78nHG4H1q",
        "outputId": "5b823e7a-844a-4444-925c-fcdcd6c1374c"
      },
      "source": [
        "from matplotlib import pyplot as plt\n",
        "print(max(gt_test[10]))\n",
        "print(min(gt_test[10]))\n",
        "\n",
        "plt.plot(down_ecg_test[20])\n",
        "plt.title(\"Downsampled data(100Hz)\")\n",
        "plt.xlabel(\"Sample index\")\n",
        "plt.ylabel(\"Amplitude\")\n",
        "plt.figure()\n",
        "plt.plot(sr_output[20])\n",
        "plt.title(\"Reconstructed output\")\n",
        "plt.xlabel(\"Sample index\")\n",
        "plt.ylabel(\"Amplitude\")\n",
        "plt.figure()\n",
        "plt.plot(gt_test[20])\n",
        "plt.title(\"Original ground truth ECG(500Hz)\")\n",
        "plt.xlabel(\"Sample index\")\n",
        "plt.ylabel(\"Amplitude\")"
      ],
      "execution_count": null,
      "outputs": [
        {
          "output_type": "stream",
          "text": [
            "0.6184188\n",
            "-0.2065812\n"
          ],
          "name": "stdout"
        },
        {
          "output_type": "execute_result",
          "data": {
            "text/plain": [
              "Text(0, 0.5, 'Amplitude')"
            ]
          },
          "metadata": {
            "tags": []
          },
          "execution_count": 47
        },
        {
          "output_type": "display_data",
          "data": {
            "image/png": "[encoded data removed]",
            "text/plain": [
              "<Figure size 432x288 with 1 Axes>"
            ]
          },
          "metadata": {
            "tags": [],
            "needs_background": "light"
          }
        },
        {
          "output_type": "display_data",
          "data": {
            "image/png": "[encoded data removed]",
            "text/plain": [
              "<Figure size 432x288 with 1 Axes>"
            ]
          },
          "metadata": {
            "tags": [],
            "needs_background": "light"
          }
        },
        {
          "output_type": "display_data",
          "data": {
            "image/png": "[encoded data removed]",
            "text/plain": [
              "<Figure size 432x288 with 1 Axes>"
            ]
          },
          "metadata": {
            "tags": [],
            "needs_background": "light"
          }
        }
      ]
    },
    {
      "cell_type": "markdown",
      "metadata": {
        "id": "73osFquID7H0"
      },
      "source": [
        "##Performance metrics"
      ]
    },
    {
      "cell_type": "code",
      "metadata": {
        "id": "fOqjf4YPKoTE"
      },
      "source": [
        "from math import sqrt\n",
        "from scipy.stats.stats import pearsonr\n",
        "\n",
        "class Evaluator:\n",
        "    def __init__(self,y_true,y_pred):\n",
        "        self.y_true = y_true\n",
        "        self.y_pred = y_pred\n",
        "\n",
        "    def mean_square_error(self):\n",
        "        self.y_true = np.asmatrix(self.y_true).reshape(-1)\n",
        "        self.y_pred = np.asmatrix(self.y_pred).reshape(-1)\n",
        "\n",
        "        return np.square(np.subtract(self.y_true, self.y_pred)).mean()\n",
        "\n",
        "    def root_mean_square_error(self):\n",
        "\n",
        "        return self.mean_square_error()**0.5\n",
        "\n",
        "\n",
        "    def mean_absolute_percentage_error(self):\n",
        "        self.y_true = np.asarray(self.y_true).reshape(-1)\n",
        "        self.y_pred = np.asarray(self.y_pred).reshape(-1)\n",
        "\n",
        "        if len(np.where(self.y_true == 0)[0]) > 0:\n",
        "            return np.inf\n",
        "        else:\n",
        "            return np.mean(np.abs((self.y_true - self.y_pred) / self.y_true)) * 100\n",
        "\n",
        "    def symmetric_mean_absolute_percentage_error(self):\n",
        "        self.y_true = np.asarray(self.y_true).reshape(-1)\n",
        "        self.y_pred = np.asarray(self.y_pred).reshape(-1)\n",
        "\n",
        "        return np.mean(np.abs((self.y_true - self.y_pred) / (( np.abs(self.y_true) + np.abs(self.y_pred) )/2) ))\n",
        "\n",
        "    def mean_absolute_error(self):\n",
        "        \n",
        "        self.y_true = np.asarray(self.y_true).reshape(-1)\n",
        "        self.y_pred = np.asarray(self.y_pred).reshape(-1)\n",
        "\n",
        "        return np.mean(np.abs(self.y_true - self.y_pred))\n",
        "\n",
        "\n",
        "    def u_theil(self):\n",
        "        self.y_true = np.asarray(self.y_true).reshape(-1)\n",
        "        self.y_pred = np.asarray(self.y_pred).reshape(-1)\n",
        "\n",
        "        error_sup = np.square(np.subtract(self.y_true, self.y_pred)).sum()\n",
        "        error_inf = np.square(np.subtract(self.y_true[0:(len(self.y_true) - 1)], self.y_true[1:(len(self.y_true))])).sum()\n",
        "\n",
        "        return error_sup / error_inf\n",
        "\n",
        "\n",
        "    def average_relative_variance(self):\n",
        "        self.y_true = np.asarray(self.y_true).reshape(-1)\n",
        "        self.y_pred = np.asarray(self.y_pred).reshape(-1)\n",
        "        mean = np.mean(self.y_true)\n",
        "\n",
        "        error_sup = np.square(np.subtract(self.y_true, self.y_pred)).sum()\n",
        "        error_inf = np.square(np.subtract(self.y_true, mean)).sum()\n",
        "\n",
        "        return error_sup / error_inf\n",
        "\n",
        "\n",
        "    def index_agreement(self):\n",
        "        self.y_true = np.asarray(self.y_true).reshape(-1)\n",
        "        self.y_pred = np.asarray(self.y_pred).reshape(-1)\n",
        "        mean = np.mean(self.y_true)\n",
        "\n",
        "        error_sup = np.square(np.abs(np.subtract(self.y_true, self.y_pred))).sum()\n",
        "\n",
        "        error_inf = np.abs(np.subtract(self.y_pred, mean)) + np.abs(np.subtract(self.y_true, mean))\n",
        "        error_inf = np.square(error_inf).sum()\n",
        "\n",
        "        return 1 - (error_sup / error_inf)\n",
        "\n",
        "\n",
        "    def prediction_of_change_in_direction(self):\n",
        "        self.y_true = np.asarray(self.y_true).reshape(-1)\n",
        "        self.y_pred = np.asarray(self.y_pred).reshape(-1)\n",
        "\n",
        "        true_sub = np.subtract(self.y_true[0:(len(self.y_true) - 1)], self.y_true[1:(len(self.y_true))])\n",
        "        pred_sub = np.subtract(self.y_pred[0:(len(self.y_pred) - 1)], self.y_pred[1:(len(self.y_pred))])\n",
        "\n",
        "        mult = true_sub * pred_sub\n",
        "        result = 0\n",
        "        for m in mult:\n",
        "            if m > 0:\n",
        "                result = result + 1\n",
        "\n",
        "        return (100 * (result / len(self.y_true)))\n",
        "\n",
        "\n",
        "    def pearson_coefficient(self):\n",
        "        return pearsonr(self.y_pred,self.y_true)[0]\n",
        "\n",
        "    def snr(self):\n",
        "        self.y_true = np.asmatrix(self.y_true).reshape(-1)\n",
        "        self.y_pred = np.asmatrix(self.y_pred).reshape(-1)\n",
        "        snr = 10 * np.log10(np.square(self.y_true).sum() / np.square(np.subtract(self.y_true, self.y_pred)).sum())\n",
        "        return snr\n",
        "\n",
        "    def generate_metric_results(self):\n",
        "        return {'MSE': self.mean_square_error(),\n",
        "                'RMSE':self.root_mean_square_error(),\n",
        "                'MAPE': self.mean_absolute_percentage_error(),\n",
        "                'SMAPE':self.symmetric_mean_absolute_percentage_error(),\n",
        "                'MAE': self.mean_absolute_error(),\n",
        "                'theil': self.u_theil(),\n",
        "                'ARV': self.average_relative_variance(),\n",
        "                'IA': self.index_agreement(),\n",
        "                'POCID': self.prediction_of_change_in_direction(),\n",
        "                'Pearson': self.pearson_coefficient(),\n",
        "                'SNR': self.snr() }"
      ],
      "execution_count": null,
      "outputs": []
    },
    {
      "cell_type": "code",
      "metadata": {
        "id": "kRTDuo-gQhev",
        "colab": {
          "base_uri": "https://localhost:8080/"
        },
        "outputId": "8439f814-ea42-45f9-f8f5-743d32cb9ea6"
      },
      "source": [
        "metric_eval = Evaluator(y_true=gt_test[25],y_pred=sr_output[25]) \n",
        "dict_metrics_single = metric_eval.generate_metric_results()\n",
        "print(dict_metrics_single)\n",
        "all_rmse_op = []\n",
        "\n",
        "all_pearson_op = []\n",
        "\n",
        "all_snr_op = []\n",
        "\n",
        "for i in range(len(sr_output)):\n",
        "  output_metric_eval = Evaluator(y_true=gt_test[i],y_pred=sr_output[i]) \n",
        "  output_dict_metrics = output_metric_eval.generate_metric_results()\n",
        "  all_rmse_op.append(output_dict_metrics['RMSE'])\n",
        "  all_pearson_op.append(output_dict_metrics['Pearson'])\n",
        "  all_snr_op.append(output_dict_metrics['SNR'])\n",
        "\n",
        "print(\n",
        "np.mean(np.array(all_rmse_op)), \": RMSE\\n\",\n",
        "np.mean(np.array(all_pearson_op)),\": mean Pearson coeff output side\\n\",\n",
        "np.mean(np.array(all_snr_op)), \": Net SNR\"\n",
        ")"
      ],
      "execution_count": null,
      "outputs": [
        {
          "output_type": "stream",
          "text": [
            "{'MSE': 0.010127495, 'RMSE': 0.10063545619203859, 'MAPE': 42.22944378852844, 'SMAPE': 0.40134913, 'MAE': 0.04519552, 'theil': 6.3918395, 'ARV': 0.19598138, 'IA': 0.931701235473156, 'POCID': 15.0, 'Pearson': 0.9181280727368615, 'SNR': 7.078304290771484}\n",
            "0.08145640821908438 : RMSE\n",
            " 0.9214675032235679 : mean Pearson coeff output side\n",
            " 7.335244009229872 : Net SNR\n"
          ],
          "name": "stdout"
        }
      ]
    }
  ]
}