{
  "nbformat": 4,
  "nbformat_minor": 0,
  "metadata": {
    "accelerator": "GPU",
    "colab": {
      "name": "CPSC_dataPreprocessing.ipynb",
      "provenance": [],
      "collapsed_sections": [
        "-dS6pXV-u1Y5",
        "q-00Ege4A1lT",
        "li0P1dfA1pXI",
        "dGio3ViK4E7l",
        "923WcJ3mPYel",
        "rxZSafTi8Ug5"
      ]
    },
    "kernelspec": {
      "display_name": "Python 3",
      "name": "python3"
    }
  },
  "cells": [
    {
      "cell_type": "markdown",
      "metadata": {
        "id": "-dS6pXV-u1Y5"
      },
      "source": [
        "#Mount drive"
      ]
    },
    {
      "cell_type": "code",
      "metadata": {
        "colab": {
          "base_uri": "https://localhost:8080/"
        },
        "id": "2z8vILKztUp_",
        "outputId": "8f7e5199-a9f4-4a2c-dafd-2a6e1eeec056"
      },
      "source": [
        "from google.colab import drive\n",
        "drive.mount(\"/content/drive\", force_remount=True)"
      ],
      "execution_count": null,
      "outputs": [
        {
          "output_type": "stream",
          "text": [
            "Mounted at /content/drive\n"
          ],
          "name": "stdout"
        }
      ]
    },
    {
      "cell_type": "code",
      "metadata": {
        "colab": {
          "base_uri": "https://localhost:8080/"
        },
        "id": "vSg1FDKGuOjW",
        "outputId": "c45552c0-b310-4074-ad41-36c33fd8dcde"
      },
      "source": [
        "!ls \"/content/drive/My Drive\""
      ],
      "execution_count": null,
      "outputs": [
        {
          "output_type": "stream",
          "text": [
            "'Colab Notebooks'       down_100set.npy         Ecg_1d_srcnn.h5\n",
            " CPSC_500_6sec\t        down_125set.npy         gt_set.npy\n",
            " cpsc_classlabels.npy   down_20set.npy\t        lstm.h5\n",
            " CPSC_downsample100Hz   down250_set.npy         Reflections_medicomp\n",
            " CPSC_downsample125Hz   down_25set.npy\t        TrainingSet1\n",
            " CPSC_downsample20Hz    down_50set.npy\t        TrainingSet2\n",
            " CPSC_downsample250Hz   ECG_1DCNN_30.h5         TrainingSet3\n",
            " CPSC_downsample25Hz    ECG_1DCNN_5classes.h5   unet1d_new.h5\n",
            " CPSC_downsample50Hz    Ecg_1d_srcnn_100Hz.h5\n"
          ],
          "name": "stdout"
        }
      ]
    },
    {
      "cell_type": "markdown",
      "metadata": {
        "id": "q-00Ege4A1lT"
      },
      "source": [
        "#CPSC Data: Labels analysis"
      ]
    },
    {
      "cell_type": "code",
      "metadata": {
        "id": "8955QqpqLomT"
      },
      "source": [
        "import scipy.io\n",
        "import numpy as np\n",
        "from matplotlib import pyplot as plt\n",
        "\n",
        "set1_path = \"/content/drive/My Drive/TrainingSet1/\"\n",
        "set2_path = \"/content/drive/My Drive/TrainingSet2/\"\n",
        "set3_path = \"/content/drive/My Drive/TrainingSet3/\"\n",
        "reference_path = \"/content/drive/My Drive/TrainingSet3/REFERENCE.csv\""
      ],
      "execution_count": null,
      "outputs": []
    },
    {
      "cell_type": "code",
      "metadata": {
        "id": "ny_0_P0vWKU-"
      },
      "source": [
        "import pandas as pd\n",
        "\n",
        "refer = pd.read_csv(reference_path)\n",
        "refer"
      ],
      "execution_count": null,
      "outputs": []
    },
    {
      "cell_type": "code",
      "metadata": {
        "colab": {
          "base_uri": "https://localhost:8080/"
        },
        "id": "Q-YCCZzk40r8",
        "outputId": "94e4a3ca-dcdc-49c8-c420-54430cabd49f"
      },
      "source": [
        "print(refer.Recording[0],'\\n',refer.First_label[0])"
      ],
      "execution_count": null,
      "outputs": [
        {
          "output_type": "stream",
          "text": [
            "A0001 \n",
            " 5\n"
          ],
          "name": "stdout"
        }
      ]
    },
    {
      "cell_type": "code",
      "metadata": {
        "colab": {
          "base_uri": "https://localhost:8080/"
        },
        "id": "cbQKv2Zw6MbE",
        "outputId": "5c688f41-ce5e-468d-95a7-fd1fb1b0e466"
      },
      "source": [
        "#1st label is present in all, here we are ust checking how many have 2nd and 3rd labels too\n",
        "records_2ndlabelOnly = 0\n",
        "records_3rdlabelOnly = 0\n",
        "records_2ndAnd3rd = 0\n",
        "\n",
        "for i in range(len(refer)):\n",
        "  if np.isnan(refer.Second_label[i]) != True and np.isnan(refer.Third_label[i]) != True:\n",
        "    records_2ndAnd3rd += 1\n",
        "  elif (np.isnan(refer.Second_label[i]) != True and np.isnan(refer.Third_label[i])):\n",
        "    records_2ndlabelOnly += 1\n",
        "  elif np.isnan(refer.Second_label[i]) and np.isnan(refer.Third_label[i]) != True:\n",
        "    records_3rdlabelOnly += 1\n",
        "\n",
        "\n",
        "print(records_2ndlabelOnly)\n",
        "print(records_3rdlabelOnly)\n",
        "print(records_2ndAnd3rd)"
      ],
      "execution_count": null,
      "outputs": [
        {
          "output_type": "stream",
          "text": [
            "471\n",
            "0\n",
            "6\n"
          ],
          "name": "stdout"
        }
      ]
    },
    {
      "cell_type": "markdown",
      "metadata": {
        "id": "li0P1dfA1pXI"
      },
      "source": [
        "#Segregation according to arrhythmia class-methods"
      ]
    },
    {
      "cell_type": "code",
      "metadata": {
        "id": "uIbyiub86MMT"
      },
      "source": [
        "arrhythmia_class1 = []\n",
        "arrhythmia_class2 = []\n",
        "arrhythmia_class3 = []\n",
        "arrhythmia_class4 = []\n",
        "arrhythmia_class5 = []\n",
        "arrhythmia_class6 = []\n",
        "arrhythmia_class7 = []\n",
        "arrhythmia_class8 = []\n",
        "arrhythmia_class9 = []"
      ],
      "execution_count": null,
      "outputs": []
    },
    {
      "cell_type": "code",
      "metadata": {
        "id": "N5U8JiLf5z5a"
      },
      "source": [
        "def getTarget(recordname):\n",
        "  for i in range(len(refer.Recording)):\n",
        "    if refer.Recording[i] == str(recordname) :\n",
        "      return refer.First_label[i] #Checking only by first label\n",
        "\n",
        "def checkArrhythmiaClassndSegregate(arhythmia_class,ecg_record_tuple):\n",
        "  if arhythmia_class == 1:\n",
        "    arrhythmia_class1.append(ecg_record_tuple)\n",
        "  elif arhythmia_class == 2:\n",
        "    arrhythmia_class2.append(ecg_record_tuple)\n",
        "  elif arhythmia_class == 3:\n",
        "    arrhythmia_class3.append(ecg_record_tuple)\n",
        "  elif arhythmia_class == 4:\n",
        "    arrhythmia_class4.append(ecg_record_tuple)\n",
        "  elif arhythmia_class == 5:\n",
        "    arrhythmia_class5.append(ecg_record_tuple)\n",
        "  elif arhythmia_class == 6:\n",
        "    arrhythmia_class6.append(ecg_record_tuple)\n",
        "  elif arhythmia_class == 7:\n",
        "    arrhythmia_class7.append(ecg_record_tuple)\n",
        "  elif arhythmia_class == 8:\n",
        "    arrhythmia_class8.append(ecg_record_tuple)\n",
        "  elif arhythmia_class == 9:\n",
        "    arrhythmia_class9.append(ecg_record_tuple)"
      ],
      "execution_count": null,
      "outputs": []
    },
    {
      "cell_type": "markdown",
      "metadata": {
        "id": "dGio3ViK4E7l"
      },
      "source": [
        "#Downsampling and segregation"
      ]
    },
    {
      "cell_type": "code",
      "metadata": {
        "id": "_1xJPhjSptjA"
      },
      "source": [
        "from scipy.signal import resample_poly\n",
        "\n",
        "def getDownsampledEcg(required_fs,ecg_12leads):\n",
        "  original_fs = 500\n",
        "  \n",
        "  if required_fs == 500:\n",
        "    new_dim = ecg_12leads[0].shape[0]\n",
        "    #print(new_dim,\"500 required!!\")\n",
        "    down_ecg_12leads = np.zeros((12,new_dim))\n",
        "    for i in range(12):\n",
        "      down_ecg_12leads[i] = ecg_12leads[i]\n",
        "  else:\n",
        "    temp = resample_poly(ecg_12leads[0],up=required_fs,down=original_fs)\n",
        "    new_dim = temp.shape[0] \n",
        "    #print(new_dim,\"500 not required\")\n",
        "    down_ecg_12leads = np.zeros((12,new_dim))\n",
        "    for i in range(12):\n",
        "      down_ecg_12leads[i] = resample_poly(ecg_12leads[i],up=required_fs,down=original_fs)\n",
        "\n",
        "  return down_ecg_12leads"
      ],
      "execution_count": null,
      "outputs": []
    },
    {
      "cell_type": "code",
      "metadata": {
        "id": "VPGqEEgHqcjY"
      },
      "source": [
        "import os\n",
        "import scipy.io\n",
        "\n",
        "list_files_set1 = os.listdir(set1_path)\n",
        "list_files_set2 = os.listdir(set2_path)\n",
        "list_files_set3 = os.listdir(set3_path)"
      ],
      "execution_count": null,
      "outputs": []
    },
    {
      "cell_type": "code",
      "metadata": {
        "id": "CKuyCJxUA4Ga"
      },
      "source": [
        "fs_target = 500 #change the target fs here\n",
        "dimension_after_downsample = []\n",
        "\n",
        "for item in list_files_set1:\n",
        "  data_cpsc_sample1 = scipy.io.loadmat(set1_path+item)\n",
        "  #print(set1_path+item)\n",
        "  rec_name1 = item.split('.')[0]\n",
        "  ecg_cpsc_arr1 = data_cpsc_sample1['ECG'][0,0][2]\n",
        "  down_sample_ecg1 = getDownsampledEcg(fs_target,ecg_cpsc_arr1)\n",
        "  dimension_after_downsample.append(down_sample_ecg1.shape[1])\n",
        "  checkArrhythmiaClassndSegregate(getTarget(rec_name1),[rec_name1,down_sample_ecg1])\n",
        "\n",
        "for item in list_files_set2:\n",
        "  data_cpsc_sample2 = scipy.io.loadmat(set2_path+item)\n",
        "  #print(set2_path+item)\n",
        "  rec_name2 = item.split('.')[0]\n",
        "  ecg_cpsc_arr2 = data_cpsc_sample2['ECG'][0,0][2]\n",
        "  down_sample_ecg2 = getDownsampledEcg(fs_target,ecg_cpsc_arr2)\n",
        "  dimension_after_downsample.append(down_sample_ecg2.shape[1])\n",
        "  checkArrhythmiaClassndSegregate(getTarget(rec_name2),[rec_name2,down_sample_ecg2])\n",
        "\n",
        "for item in list_files_set3:\n",
        "  if item != \"REFERENCE.csv\":\n",
        "    data_cpsc_sample3 = scipy.io.loadmat(set3_path+item)\n",
        "    print(set3_path+item)\n",
        "    rec_name3 = item.split('.')[0]\n",
        "    ecg_cpsc_arr3 = data_cpsc_sample3['ECG'][0,0][2]\n",
        "    down_sample_ecg3 = getDownsampledEcg(fs_target,ecg_cpsc_arr3)\n",
        "    dimension_after_downsample.append(down_sample_ecg3.shape[1])\n",
        "    checkArrhythmiaClassndSegregate(getTarget(rec_name3),[rec_name3,down_sample_ecg3])\n"
      ],
      "execution_count": null,
      "outputs": []
    },
    {
      "cell_type": "code",
      "metadata": {
        "colab": {
          "base_uri": "https://localhost:8080/"
        },
        "id": "WBk2hIezploE",
        "outputId": "57036c29-8137-464a-858f-e7d52a402764"
      },
      "source": [
        "print(len(dimension_after_downsample))\n",
        "trunc_length = min(dimension_after_downsample)\n",
        "print(trunc_length)"
      ],
      "execution_count": null,
      "outputs": [
        {
          "output_type": "stream",
          "text": [
            "6877\n",
            "3000\n"
          ],
          "name": "stdout"
        }
      ]
    },
    {
      "cell_type": "code",
      "metadata": {
        "colab": {
          "base_uri": "https://localhost:8080/"
        },
        "id": "RrXiK8PCyqx3",
        "outputId": "80700dcf-cd62-4c52-e04c-4e26d41b1f7d"
      },
      "source": [
        "print(len(arrhythmia_class1))\n",
        "print(len(arrhythmia_class2))\n",
        "print(len(arrhythmia_class3))\n",
        "print(len(arrhythmia_class4))\n",
        "print(len(arrhythmia_class5))\n",
        "print(len(arrhythmia_class6))\n",
        "print(len(arrhythmia_class7))\n",
        "print(len(arrhythmia_class8))\n",
        "print(len(arrhythmia_class9))"
      ],
      "execution_count": null,
      "outputs": [
        {
          "output_type": "stream",
          "text": [
            "918\n",
            "1098\n",
            "704\n",
            "207\n",
            "1695\n",
            "574\n",
            "653\n",
            "826\n",
            "202\n"
          ],
          "name": "stdout"
        }
      ]
    },
    {
      "cell_type": "code",
      "metadata": {
        "id": "pGbEJvupa5CW"
      },
      "source": [
        "#create labels file for all leads data:\n",
        "import numpy as np\n",
        "\n",
        "normal_labels = np.ones(len(arrhythmia_class1))  ###1\n",
        "af_labels = 2 * np.ones(len(arrhythmia_class2)) ####2\n",
        "iavb_labels = 3 * np.ones(len(arrhythmia_class3)) ###3\n",
        "lbbb_labels = 4 * np.ones(len(arrhythmia_class4)) ###4\n",
        "rbbb_labels = 5 * np.ones(len(arrhythmia_class5)) ###5\n",
        "pac_labels = 6 * np.ones(len(arrhythmia_class6))\n",
        "pvc_labels = 7 * np.ones(len(arrhythmia_class7))\n",
        "std_labels = 8 * np.ones(len(arrhythmia_class8))\n",
        "ste_labels = 9 * np.ones(len(arrhythmia_class9))\n",
        "\n",
        "cpsc_leadwise_labels = np.concatenate((normal_labels,af_labels,iavb_labels,lbbb_labels,rbbb_labels,pac_labels,pvc_labels,std_labels,ste_labels))"
      ],
      "execution_count": null,
      "outputs": []
    },
    {
      "cell_type": "code",
      "metadata": {
        "colab": {
          "base_uri": "https://localhost:8080/"
        },
        "id": "mzN5yRHPjiwP",
        "outputId": "02fbf2d0-5729-4520-950c-1315af774337"
      },
      "source": [
        "np.shape(cpsc_leadwise_labels)"
      ],
      "execution_count": null,
      "outputs": [
        {
          "output_type": "execute_result",
          "data": {
            "text/plain": [
              "(6877,)"
            ]
          },
          "metadata": {
            "tags": []
          },
          "execution_count": 20
        }
      ]
    },
    {
      "cell_type": "code",
      "metadata": {
        "id": "3wiXc442jkh4"
      },
      "source": [
        "np.save('cpsc_classlabels_leadwise',cpsc_leadwise_labels)"
      ],
      "execution_count": null,
      "outputs": []
    },
    {
      "cell_type": "code",
      "metadata": {
        "colab": {
          "base_uri": "https://localhost:8080/",
          "height": 35
        },
        "id": "XFSAZtKTjxVf",
        "outputId": "627844ae-4a2e-4e5c-e3b5-fa7cec87c77e"
      },
      "source": [
        "import shutil\n",
        "\n",
        "shutil.move('cpsc_classlabels_leadwise.npy', \"/content/drive/My Drive/\")"
      ],
      "execution_count": null,
      "outputs": [
        {
          "output_type": "execute_result",
          "data": {
            "application/vnd.google.colaboratory.intrinsic+json": {
              "type": "string"
            },
            "text/plain": [
              "'/content/drive/My Drive/cpsc_classlabels_leadwise.npy'"
            ]
          },
          "metadata": {
            "tags": []
          },
          "execution_count": 22
        }
      ]
    },
    {
      "cell_type": "markdown",
      "metadata": {
        "id": "923WcJ3mPYel"
      },
      "source": [
        "#Converting to dataframe and moving to drive"
      ]
    },
    {
      "cell_type": "code",
      "metadata": {
        "id": "u2UgcpH0SYrA"
      },
      "source": [
        "lead_0_gtdata = []\n",
        "lead_1_gtdata = []\n",
        "lead_2_gtdata = []\n",
        "lead_3_gtdata = []\n",
        "lead_4_gtdata = []\n",
        "lead_5_gtdata = []\n",
        "lead_6_gtdata = []\n",
        "lead_7_gtdata = []\n",
        "lead_8_gtdata = []\n",
        "lead_9_gtdata = []\n",
        "lead_10_gtdata = []\n",
        "lead_11_gtdata = []"
      ],
      "execution_count": null,
      "outputs": []
    },
    {
      "cell_type": "code",
      "metadata": {
        "id": "ViNqbIBrS29c"
      },
      "source": [
        "from scipy.signal import resample_poly\n",
        "\n",
        "def separateChannelWiseEcg(trunc_ecg_all_leads,channel_ind):\n",
        "  ch_data = trunc_ecg_all_leads[:,channel_ind,:]\n",
        "  if channel_ind == 0:\n",
        "    lead_0_gtdata.append(ch_data)\n",
        "  elif channel_ind == 1:\n",
        "    lead_1_gtdata.append(ch_data)\n",
        "  elif channel_ind == 2:\n",
        "    lead_2_gtdata.append(ch_data)\n",
        "  elif channel_ind == 3:\n",
        "    lead_3_gtdata.append(ch_data)\n",
        "  elif channel_ind == 4:\n",
        "    lead_4_gtdata.append(ch_data)\n",
        "  elif channel_ind == 5:\n",
        "    lead_5_gtdata.append(ch_data)\n",
        "  elif channel_ind == 6:\n",
        "    lead_6_gtdata.append(ch_data)\n",
        "  elif channel_ind == 7:\n",
        "    lead_7_gtdata.append(ch_data)\n",
        "  elif channel_ind == 8:\n",
        "    lead_8_gtdata.append(ch_data)\n",
        "  elif channel_ind == 9:\n",
        "    lead_9_gtdata.append(ch_data)\n",
        "  elif channel_ind == 10:\n",
        "    lead_10_gtdata.append(ch_data)\n",
        "  elif channel_ind == 11:\n",
        "    lead_11_gtdata.append(ch_data)\n",
        "\n",
        "  \n",
        "\n",
        "def getChannelDataForArrhythmiaAndStore(channel_index,arh_class_data,arh_class_index):\n",
        "  recordsarr = np.array(arh_class_data)[:,0]\n",
        "  arrhythmia_class_tracings = np.array(arh_class_data)[:,1]\n",
        "  arh_data_mat = np.zeros((len(arh_class_data),12,trunc_length),dtype=np.float32)\n",
        "  for i in range(len(arrhythmia_class_tracings)):\n",
        "    arh_data_mat[i] = arrhythmia_class_tracings[i][:,0:trunc_length]\n",
        "  separateChannelWiseEcg(arh_data_mat,channel_index)\n",
        "\n",
        "  return recordsarr"
      ],
      "execution_count": null,
      "outputs": []
    },
    {
      "cell_type": "code",
      "metadata": {
        "id": "UbnOGtEM1eLf"
      },
      "source": [
        "from scipy.signal import resample_poly\n",
        "\n",
        "def getChannelDataForParticularArrhythmia(channel_index,arh_class_data,arh_class_index):\n",
        "  recordsarr = np.array(arh_class_data)[:,0]\n",
        "  arrhythmia_class_tracings = np.array(arh_class_data)[:,1]\n",
        "  arh_data_mat = np.zeros((len(arh_class_data),12,trunc_length),dtype=np.float32)\n",
        "  for i in range(len(arrhythmia_class_tracings)):\n",
        "    arh_data_mat[i] = arrhythmia_class_tracings[i][:,0:trunc_length]\n",
        "  ch_data = arh_data_mat[:,channel_index,:]\n",
        "  temp = {recordsarr[i]: ch_data[i] for i in range(len(recordsarr))}\n",
        "  filename = \"version_\"+str(fs_target)+\"Hz_class_\"+str(arh_class_index)+\"_lead_\"+str(channel_index)+\"_chunk_\"+str(trunc_length)+\".parquet\"\n",
        "  final_df = pd.DataFrame(data = temp)\n",
        "  final_df.to_parquet(filename)"
      ],
      "execution_count": null,
      "outputs": []
    },
    {
      "cell_type": "code",
      "metadata": {
        "id": "f1YKLGH3XzoV"
      },
      "source": [
        "recordsarr_all_channel_indices = []"
      ],
      "execution_count": null,
      "outputs": []
    },
    {
      "cell_type": "code",
      "metadata": {
        "colab": {
          "base_uri": "https://localhost:8080/"
        },
        "id": "yy-iQstGYAv6",
        "outputId": "52a4ac87-7907-4d4d-84c1-b4c5efb242a3"
      },
      "source": [
        "#to get leadwise data\n",
        "segregated_arh_listarray = [arrhythmia_class1,arrhythmia_class2,arrhythmia_class3,\n",
        "                            arrhythmia_class4,arrhythmia_class5,arrhythmia_class6,\n",
        "                            arrhythmia_class7,arrhythmia_class8,arrhythmia_class9]\n",
        "\n",
        "for i in range(9):\n",
        "  for j in range(12):\n",
        "    recordsarr_all_channel_indices.append(getChannelDataForArrhythmiaAndStore(j,segregated_arh_listarray[i],i+1))"
      ],
      "execution_count": null,
      "outputs": [
        {
          "output_type": "stream",
          "text": [
            "/usr/local/lib/python3.7/dist-packages/ipykernel_launcher.py:33: VisibleDeprecationWarning: Creating an ndarray from ragged nested sequences (which is a list-or-tuple of lists-or-tuples-or ndarrays with different lengths or shapes) is deprecated. If you meant to do this, you must specify 'dtype=object' when creating the ndarray\n",
            "/usr/local/lib/python3.7/dist-packages/ipykernel_launcher.py:34: VisibleDeprecationWarning: Creating an ndarray from ragged nested sequences (which is a list-or-tuple of lists-or-tuples-or ndarrays with different lengths or shapes) is deprecated. If you meant to do this, you must specify 'dtype=object' when creating the ndarray\n"
          ],
          "name": "stderr"
        }
      ]
    },
    {
      "cell_type": "code",
      "metadata": {
        "colab": {
          "base_uri": "https://localhost:8080/"
        },
        "id": "P05YalyTHZ6n",
        "outputId": "04c468a4-36e4-4c80-d619-2fbf1899e157"
      },
      "source": [
        "segregated_arh_listarray = [arrhythmia_class1,arrhythmia_class2,arrhythmia_class3,\n",
        "                            arrhythmia_class4,arrhythmia_class5,arrhythmia_class6,\n",
        "                            arrhythmia_class7,arrhythmia_class8,arrhythmia_class9]\n",
        "\n",
        "for i in range(9):\n",
        "  for j in range(12):\n",
        "    getChannelDataForParticularArrhythmia(j,segregated_arh_listarray[i],i+1)"
      ],
      "execution_count": null,
      "outputs": [
        {
          "output_type": "stream",
          "text": [
            "/usr/local/lib/python3.7/dist-packages/ipykernel_launcher.py:4: VisibleDeprecationWarning: Creating an ndarray from ragged nested sequences (which is a list-or-tuple of lists-or-tuples-or ndarrays with different lengths or shapes) is deprecated. If you meant to do this, you must specify 'dtype=object' when creating the ndarray\n",
            "  after removing the cwd from sys.path.\n",
            "/usr/local/lib/python3.7/dist-packages/ipykernel_launcher.py:5: VisibleDeprecationWarning: Creating an ndarray from ragged nested sequences (which is a list-or-tuple of lists-or-tuples-or ndarrays with different lengths or shapes) is deprecated. If you meant to do this, you must specify 'dtype=object' when creating the ndarray\n",
            "  \"\"\"\n"
          ],
          "name": "stderr"
        }
      ]
    },
    {
      "cell_type": "code",
      "metadata": {
        "id": "-lXen6zTEfnW"
      },
      "source": [
        "#move from temp storage to your drive\n",
        "import shutil\n",
        "\n",
        "for i in range(1,10):\n",
        "  for j in range(12):\n",
        "    filepath = '/content/version_'+str(fs_target)+'Hz_class_'+str(i)+'_lead_'+str(j)+'_chunk_'+str(trunc_length)+'.parquet'\n",
        "\n",
        "    #print(filepath)\n",
        "    shutil.move(filepath, \"/content/drive/My Drive/CPSC_downsample125Hz\")"
      ],
      "execution_count": null,
      "outputs": []
    },
    {
      "cell_type": "markdown",
      "metadata": {
        "id": "rxZSafTi8Ug5"
      },
      "source": [
        "#Prepare lead-wise balanced data"
      ]
    },
    {
      "cell_type": "code",
      "metadata": {
        "id": "FaFwOTVQ8bdd"
      },
      "source": [
        "import numpy as np"
      ],
      "execution_count": null,
      "outputs": []
    },
    {
      "cell_type": "code",
      "metadata": {
        "id": "6aHFdUDc3ea2"
      },
      "source": [
        "leadwise_balanced_ecg = []\n",
        "leadwise_balanced_labels = []"
      ],
      "execution_count": null,
      "outputs": []
    },
    {
      "cell_type": "code",
      "metadata": {
        "id": "f51WsOBO_TIk"
      },
      "source": [
        "def getLeadwiseBalancedData(gt_data,gt_labels):\n",
        "  cpsc_labels = gt_labels\n",
        "  gt_ecg = gt_data\n",
        "\n",
        "  ecg_normal = []\n",
        "  ecg_af = []\n",
        "  ecg_iavb = []\n",
        "  ecg_lbbb = []\n",
        "  ecg_rbbb = []\n",
        "  ecg_pac = []\n",
        "  ecg_pvc = []\n",
        "  ecg_std = []\n",
        "  ecg_ste = []\n",
        "\n",
        "  normal_labels = []\n",
        "  af_labels = []\n",
        "  iavb_labels = []\n",
        "  lbbb_labels = []\n",
        "  rbbb_labels = []\n",
        "  pac_labels = []\n",
        "  pvc_labels = []\n",
        "  std_labels = []\n",
        "  ste_labels = []\n",
        "  \n",
        "  for i in cpsc_labels:\n",
        "    if i == 1:\n",
        "      ecg_normal.append(gt_ecg[i])\n",
        "      normal_labels.append(i)\n",
        "    elif i == 2:\n",
        "      ecg_af.append(gt_ecg[i])\n",
        "      af_labels.append(i)\n",
        "    elif i == 3:\n",
        "      ecg_iavb.append(gt_ecg[i])\n",
        "      iavb_labels.append(i)\n",
        "    elif i == 4:\n",
        "      ecg_lbbb.append(gt_ecg[i])\n",
        "      lbbb_labels.append(i)\n",
        "    elif i == 5:\n",
        "      ecg_rbbb.append(gt_ecg[i])\n",
        "      rbbb_labels.append(i)\n",
        "    elif i == 6:\n",
        "      ecg_pac.append(gt_ecg[i])\n",
        "      pac_labels.append(i)\n",
        "    elif i == 7:\n",
        "      ecg_pvc.append(gt_ecg[i])\n",
        "      pvc_labels.append(i)\n",
        "    elif i == 8:\n",
        "      ecg_std.append(gt_ecg[i])\n",
        "      std_labels.append(i)\n",
        "    elif i == 9:\n",
        "      ecg_ste.append(gt_ecg[i])\n",
        "      ste_labels.append(i)\n",
        "      \n",
        "  min_readings_classwise = min(len(ecg_normal),len(ecg_af),len(ecg_iavb),len(ecg_lbbb),len(ecg_rbbb),len(ecg_pac),len(ecg_pvc),len(ecg_std),len(ecg_ste))\n",
        "  ecg_normal = ecg_normal[:min_readings_classwise]\n",
        "  ecg_af = ecg_af[:min_readings_classwise]\n",
        "  ecg_iavb = ecg_iavb[:min_readings_classwise]\n",
        "  ecg_lbbb = ecg_lbbb[:min_readings_classwise]\n",
        "  ecg_rbbb = ecg_rbbb[:min_readings_classwise]\n",
        "  ecg_pac = ecg_pac[:min_readings_classwise]\n",
        "  ecg_pvc = ecg_pvc[:min_readings_classwise]\n",
        "  ecg_std = ecg_std[:min_readings_classwise]\n",
        "  ecg_ste = ecg_ste[:min_readings_classwise]\n",
        "\n",
        "  normal_labels = normal_labels[:min_readings_classwise]\n",
        "  af_labels = af_labels[:min_readings_classwise]\n",
        "  iavb_labels = iavb_labels[:min_readings_classwise]\n",
        "  lbbb_labels = lbbb_labels[:min_readings_classwise]\n",
        "  rbbb_labels = rbbb_labels[:min_readings_classwise]\n",
        "  pac_labels = pac_labels[:min_readings_classwise]\n",
        "  pvc_labels = pvc_labels[:min_readings_classwise]\n",
        "  std_labels = std_labels[:min_readings_classwise]\n",
        "  ste_labels = ste_labels[:min_readings_classwise]\n",
        "\n",
        "  lead_ecg_set = np.concatenate((ecg_normal,ecg_af,ecg_iavb,ecg_lbbb,ecg_rbbb,ecg_pac,ecg_pvc,ecg_std,ecg_ste),axis=0)\n",
        "  lead_ecg_labels = np.concatenate((normal_labels,af_labels,iavb_labels,lbbb_labels,rbbb_labels,pac_labels,pvc_labels,std_labels,ste_labels))\n",
        "  \n",
        "  leadwise_balanced_ecg.append(lead_ecg_set)\n",
        "  leadwise_balanced_labels.append(lead_ecg_labels)"
      ],
      "execution_count": null,
      "outputs": []
    },
    {
      "cell_type": "code",
      "metadata": {
        "id": "ITfkRWVbBCxi"
      },
      "source": [
        "gt_main_path = \"/content/drive/My Drive/Leadwise_data/gtdata_lead_\"\n",
        "gt_labels_mainpath = \"/content/drive/My Drive/Leadwise_data/labels_lead\"\n",
        "for i in range(12):\n",
        "  lead_gt = np.load(gt_main_path + str(i) + \".npy\")\n",
        "  lead_labels = np.load(gt_labels_mainpath + str(i) + \".npy\")\n",
        "  getLeadwiseBalancedData(lead_gt,lead_labels)"
      ],
      "execution_count": null,
      "outputs": []
    },
    {
      "cell_type": "code",
      "metadata": {
        "id": "YbrSFo_vAnch"
      },
      "source": [
        "gt_cpsc_balanced = np.concatenate(leadwise_balanced_ecg,axis = 0)\n",
        "gt_labels_balanced = np.concatenate(leadwise_balanced_labels)"
      ],
      "execution_count": null,
      "outputs": []
    },
    {
      "cell_type": "code",
      "metadata": {
        "colab": {
          "base_uri": "https://localhost:8080/"
        },
        "id": "WmKhe0RGF88f",
        "outputId": "7de6aff3-e4c7-4760-8cb9-e97242796f70"
      },
      "source": [
        "print(gt_cpsc_balanced.shape)\n",
        "print(gt_labels_balanced.shape)"
      ],
      "execution_count": null,
      "outputs": [
        {
          "output_type": "stream",
          "text": [
            "(21816, 3000)\n",
            "(21816,)\n"
          ],
          "name": "stdout"
        }
      ]
    },
    {
      "cell_type": "code",
      "metadata": {
        "id": "UrmW-AcJGMYa"
      },
      "source": [
        "np.save(\"cpsc_leadclass_balanced\",gt_cpsc_balanced)\n",
        "np.save(\"cpsc_leadclass_balanced_labels\",gt_labels_balanced)"
      ],
      "execution_count": null,
      "outputs": []
    },
    {
      "cell_type": "code",
      "metadata": {
        "colab": {
          "base_uri": "https://localhost:8080/",
          "height": 35
        },
        "id": "mQT4nskcGczO",
        "outputId": "59c0400a-7a2b-40fc-ca38-8810039770f2"
      },
      "source": [
        "import shutil\n",
        "\n",
        "shutil.move('cpsc_leadclass_balanced.npy', \"/content/drive/My Drive/Leadwise_data/\")\n",
        "shutil.move('cpsc_leadclass_balanced_labels.npy', \"/content/drive/My Drive/Leadwise_data/\")"
      ],
      "execution_count": null,
      "outputs": [
        {
          "output_type": "execute_result",
          "data": {
            "application/vnd.google.colaboratory.intrinsic+json": {
              "type": "string"
            },
            "text/plain": [
              "'/content/drive/My Drive/Leadwise_data/cpsc_leadclass_balanced_labels.npy'"
            ]
          },
          "metadata": {
            "tags": []
          },
          "execution_count": 32
        }
      ]
    },
    {
      "cell_type": "markdown",
      "metadata": {
        "id": "3qZWWbvHhKww"
      },
      "source": [
        "#Prepare dataset\n"
      ]
    },
    {
      "cell_type": "markdown",
      "metadata": {
        "id": "D65KZXiL2qw4"
      },
      "source": [
        "This section is just a longer aternative to the previous setion that needs to be executed only once."
      ]
    },
    {
      "cell_type": "code",
      "metadata": {
        "id": "I3VwXcHX0xqM"
      },
      "source": [
        "import os\n",
        "import pandas as pd\n",
        "import numpy as np\n",
        "\n",
        "gt_path = \"/content/drive/My Drive/CPSC_500_6sec/\"\n",
        "down_250_path = \"/content/drive/My Drive/CPSC_downsample250Hz/\"\n",
        "down_125_path = \"/content/drive/My Drive/CPSC_downsample125Hz/\"\n",
        "down_100_path = \"/content/drive/My Drive/CPSC_downsample100Hz/\"\n",
        "down_50_path = \"/content/drive/My Drive/CPSC_downsample50Hz/\"\n",
        "down_25_path = \"/content/drive/My Drive/CPSC_downsample25Hz/\"\n",
        "down_20_path = \"/content/drive/My Drive/CPSC_downsample20Hz/\""
      ],
      "execution_count": null,
      "outputs": []
    },
    {
      "cell_type": "code",
      "metadata": {
        "id": "HxZqHc2H8pBI"
      },
      "source": [
        "import numpy as np\n",
        "\n",
        "complete_data_dir_gt = os.listdir(gt_path)\n",
        "complete_data_dir_250 = os.listdir(down_250_path)\n",
        "#complete_data_dir_125 = os.listdir(down_125_path)\n",
        "#complete_data_dir_100 = os.listdir(down_100_path)\n",
        "#complete_data_dir_50 = os.listdir(down_50_path)\n",
        "#complete_data_dir_25 = os.listdir(down_25_path)\n",
        "#complete_data_dir_20 = os.listdir(down_20_path)\n",
        "\n",
        "\n",
        "gt_set = []\n",
        "down_250set = []\n",
        "#down_125set = []\n",
        "#down_100set = []\n",
        "#down_50set = []\n",
        "#down_25set = []\n",
        "#down_20set = []\n",
        "\n",
        "arrhythmia_class_labels = []\n",
        "for item in complete_data_dir_gt:\n",
        "  gt_500 = pd.read_parquet(gt_path+item)\n",
        "  orig_fname = item.split('_')\n",
        "  index_class = orig_fname.index('class')\n",
        "  orig_class = orig_fname[index_class+1]\n",
        "  index_lead = orig_fname.index('lead')\n",
        "  orig_lead = orig_fname[index_lead+1]\n",
        "  for entry in np.array(gt_500.T):\n",
        "    gt_set.append(entry)\n",
        "\n",
        "  for down_item in complete_data_dir_250:\n",
        "    fname = down_item.split('_')\n",
        "    i_class = fname.index('class')\n",
        "    o_class = fname[i_class+1]\n",
        "    i_lead = fname.index('lead')\n",
        "    o_lead = fname[i_lead+1]\n",
        "    if o_class == orig_class and o_lead == orig_lead:\n",
        "      down_250 = pd.read_parquet(down_250_path+down_item)\n",
        "      for entry_down in np.array(down_250.T):\n",
        "          down_250set.append(entry_down)\n",
        "          arrhythmia_class_labels.append(int(o_class))"
      ],
      "execution_count": null,
      "outputs": []
    },
    {
      "cell_type": "code",
      "metadata": {
        "id": "GoMOa7QE9VzJ"
      },
      "source": [
        "np.save('down_20set',np.array(down_125set))"
      ],
      "execution_count": null,
      "outputs": []
    },
    {
      "cell_type": "code",
      "metadata": {
        "colab": {
          "base_uri": "https://localhost:8080/",
          "height": 35
        },
        "id": "Yd3VEFt8BlGu",
        "outputId": "e1ed014b-f21b-4bb9-9fdc-dcdb6fe173f4"
      },
      "source": [
        "import shutil\n",
        "\n",
        "shutil.move('down_20set.npy', \"/content/drive/My Drive/\")"
      ],
      "execution_count": null,
      "outputs": [
        {
          "output_type": "execute_result",
          "data": {
            "application/vnd.google.colaboratory.intrinsic+json": {
              "type": "string"
            },
            "text/plain": [
              "'/content/drive/My Drive/down_20set.npy'"
            ]
          },
          "metadata": {
            "tags": []
          },
          "execution_count": 157
        }
      ]
    },
    {
      "cell_type": "code",
      "metadata": {
        "id": "O7dEJfh29Khe"
      },
      "source": [
        "np.save('gt_set',np.array(gt_set))\n",
        "np.save('cpsc_classlabels',np.array(arrhythmia_class_labels))\n",
        "np.save('down250_set',np.array(down_250set))"
      ],
      "execution_count": null,
      "outputs": []
    },
    {
      "cell_type": "code",
      "metadata": {
        "colab": {
          "base_uri": "https://localhost:8080/",
          "height": 35
        },
        "id": "Crxv-vJHiMbx",
        "outputId": "2da08085-6fc3-4bd4-9ce0-8be0e3cce70c"
      },
      "source": [
        "#move from temp storage to your drive\n",
        "import shutil\n",
        "\n",
        "shutil.move('gt_set.npy', \"/content/drive/My Drive/\")\n",
        "shutil.move('cpsc_classlabels.npy', \"/content/drive/My Drive/\")\n",
        "shutil.move('down250_set.npy', \"/content/drive/My Drive/\")"
      ],
      "execution_count": null,
      "outputs": [
        {
          "output_type": "execute_result",
          "data": {
            "application/vnd.google.colaboratory.intrinsic+json": {
              "type": "string"
            },
            "text/plain": [
              "'/content/drive/My Drive/down250_set.npy'"
            ]
          },
          "metadata": {
            "tags": []
          },
          "execution_count": 9
        }
      ]
    },
    {
      "cell_type": "markdown",
      "metadata": {
        "id": "ylD3yWYjlEp8"
      },
      "source": [
        "##Segregate lead-wise data"
      ]
    },
    {
      "cell_type": "code",
      "metadata": {
        "id": "-k70ExMhiMb0"
      },
      "source": [
        "lead_0_gtdata = []\n",
        "lead_1_gtdata = []\n",
        "lead_2_gtdata = []\n",
        "lead_3_gtdata = []\n",
        "lead_4_gtdata = []\n",
        "lead_5_gtdata = []\n",
        "lead_6_gtdata = []\n",
        "lead_7_gtdata = []\n",
        "lead_8_gtdata = []\n",
        "lead_9_gtdata = []\n",
        "lead_10_gtdata = []\n",
        "lead_11_gtdata = []"
      ],
      "execution_count": null,
      "outputs": []
    },
    {
      "cell_type": "code",
      "metadata": {
        "id": "B0GPCh7Fgzp2"
      },
      "source": [
        "lead_0_class_labels = []\n",
        "lead_1_class_labels = []\n",
        "lead_2_class_labels = []\n",
        "lead_3_class_labels = []\n",
        "lead_4_class_labels = []\n",
        "lead_5_class_labels = []\n",
        "lead_6_class_labels = []\n",
        "lead_7_class_labels = []\n",
        "lead_8_class_labels = []\n",
        "lead_9_class_labels = []\n",
        "lead_10_class_labels = []\n",
        "lead_11_class_labels = []"
      ],
      "execution_count": null,
      "outputs": []
    },
    {
      "cell_type": "code",
      "metadata": {
        "id": "sZea4VzSlZvL"
      },
      "source": [
        "import numpy as np\n",
        "\n",
        "\n",
        "def separateChannelWiseEcg(trunc_ecg_all_leads,channel_ind,label_class):\n",
        "  ch_data = np.array(trunc_ecg_all_leads)\n",
        "  count = ch_data.shape[0]\n",
        "\n",
        "  lead = int(channel_ind)\n",
        "  if lead == 0:\n",
        "    lead_0_gtdata.append(ch_data)\n",
        "    lead_0_class_labels.append(label_class*np.ones(count))\n",
        "  elif lead == 1:\n",
        "    lead_1_gtdata.append(ch_data)\n",
        "    lead_1_class_labels.append(label_class*np.ones(count))\n",
        "  elif lead == 2:\n",
        "    lead_2_gtdata.append(ch_data)\n",
        "    lead_2_class_labels.append(label_class*np.ones(count))\n",
        "  elif lead == 3:\n",
        "    lead_3_gtdata.append(ch_data)\n",
        "    lead_3_class_labels.append(label_class*np.ones(count))\n",
        "  elif lead == 4:\n",
        "    lead_4_gtdata.append(ch_data)\n",
        "    lead_4_class_labels.append(label_class*np.ones(count))\n",
        "  elif lead == 5:\n",
        "    lead_5_gtdata.append(ch_data)\n",
        "    lead_5_class_labels.append(label_class*np.ones(count))\n",
        "  elif lead == 6:\n",
        "    lead_6_gtdata.append(ch_data)\n",
        "    lead_6_class_labels.append(label_class*np.ones(count))\n",
        "  elif lead == 7:\n",
        "    lead_7_gtdata.append(ch_data)\n",
        "    lead_7_class_labels.append(label_class*np.ones(count))\n",
        "  elif lead == 8:\n",
        "    lead_8_gtdata.append(ch_data)\n",
        "    lead_8_class_labels.append(label_class*np.ones(count))\n",
        "  elif lead == 9:\n",
        "    lead_9_gtdata.append(ch_data)\n",
        "    lead_9_class_labels.append(label_class*np.ones(count))\n",
        "  elif lead == 10:\n",
        "    lead_10_gtdata.append(ch_data)\n",
        "    lead_10_class_labels.append(label_class*np.ones(count))\n",
        "  elif lead == 11:\n",
        "    lead_11_gtdata.append(ch_data)\n",
        "    lead_11_class_labels.append(label_class*np.ones(count))"
      ],
      "execution_count": null,
      "outputs": []
    },
    {
      "cell_type": "code",
      "metadata": {
        "id": "pCrEHflglmTT"
      },
      "source": [
        "import numpy as np\n",
        "\n",
        "complete_data_dir_gt = os.listdir(gt_path)\n",
        "\n",
        "arrhythmia_class_labels = []\n",
        "for item in complete_data_dir_gt:\n",
        "  gt_500 = pd.read_parquet(gt_path+item)\n",
        "  orig_fname = item.split('_')\n",
        "  index_class = orig_fname.index('class')\n",
        "  orig_class = orig_fname[index_class+1]\n",
        "  index_lead = orig_fname.index('lead')\n",
        "  orig_lead = orig_fname[index_lead+1]\n",
        "  separateChannelWiseEcg(gt_500.T,orig_lead,int(orig_class))"
      ],
      "execution_count": null,
      "outputs": []
    },
    {
      "cell_type": "code",
      "metadata": {
        "colab": {
          "base_uri": "https://localhost:8080/"
        },
        "id": "JnDqwslWp4CT",
        "outputId": "712484d9-dfaa-46af-ace9-4dd7e032c08f"
      },
      "source": [
        "temp = np.concatenate(lead_11_class_labels).astype(int)\n",
        "len(temp)"
      ],
      "execution_count": null,
      "outputs": [
        {
          "output_type": "execute_result",
          "data": {
            "text/plain": [
              "6877"
            ]
          },
          "metadata": {
            "tags": []
          },
          "execution_count": 30
        }
      ]
    },
    {
      "cell_type": "code",
      "metadata": {
        "id": "710-6HVL1aNc"
      },
      "source": [
        "gtdata_lead_0 = np.concatenate(lead_0_gtdata,axis = 0)\n",
        "gtdata_lead_1 = np.concatenate(lead_1_gtdata,axis = 0)\n",
        "gtdata_lead_2 = np.concatenate(lead_2_gtdata,axis = 0)\n",
        "gtdata_lead_3 = np.concatenate(lead_3_gtdata,axis = 0)\n",
        "gtdata_lead_4 = np.concatenate(lead_4_gtdata,axis = 0)\n",
        "gtdata_lead_5 = np.concatenate(lead_5_gtdata,axis = 0)\n",
        "gtdata_lead_6 = np.concatenate(lead_6_gtdata,axis = 0)\n",
        "gtdata_lead_7 = np.concatenate(lead_7_gtdata,axis = 0)\n",
        "gtdata_lead_8 = np.concatenate(lead_8_gtdata,axis = 0)\n",
        "gtdata_lead_9 = np.concatenate(lead_9_gtdata,axis = 0)\n",
        "gtdata_lead_10 = np.concatenate(lead_10_gtdata,axis = 0)\n",
        "gtdata_lead_11 = np.concatenate(lead_11_gtdata,axis = 0)"
      ],
      "execution_count": null,
      "outputs": []
    },
    {
      "cell_type": "code",
      "metadata": {
        "id": "q0zx9XvT59fS"
      },
      "source": [
        "np.save('gtdata_lead_0',gtdata_lead_0)\n",
        "np.save('gtdata_lead_1',gtdata_lead_1)\n",
        "np.save('gtdata_lead_2',gtdata_lead_2)\n",
        "np.save('gtdata_lead_3',gtdata_lead_3)\n",
        "np.save('gtdata_lead_4',gtdata_lead_4)\n",
        "np.save('gtdata_lead_5',gtdata_lead_5)\n",
        "np.save('gtdata_lead_6',gtdata_lead_6)\n",
        "np.save('gtdata_lead_7',gtdata_lead_7)\n",
        "np.save('gtdata_lead_8',gtdata_lead_8)\n",
        "np.save('gtdata_lead_9',gtdata_lead_9)\n",
        "np.save('gtdata_lead_10',gtdata_lead_10)\n",
        "np.save('gtdata_lead_11',gtdata_lead_11)"
      ],
      "execution_count": null,
      "outputs": []
    },
    {
      "cell_type": "code",
      "metadata": {
        "colab": {
          "base_uri": "https://localhost:8080/",
          "height": 35
        },
        "id": "IKMsH47e6LRW",
        "outputId": "0d1ca4a8-8196-4e7d-fe05-f8a234a08535"
      },
      "source": [
        "import shutil\n",
        "\n",
        "shutil.move('gtdata_lead_0.npy', \"/content/drive/My Drive/Leadwise_data/\")\n",
        "shutil.move('gtdata_lead_1.npy', \"/content/drive/My Drive/Leadwise_data/\")\n",
        "shutil.move('gtdata_lead_2.npy', \"/content/drive/My Drive/Leadwise_data/\")\n",
        "shutil.move('gtdata_lead_3.npy', \"/content/drive/My Drive/Leadwise_data/\")\n",
        "shutil.move('gtdata_lead_4.npy', \"/content/drive/My Drive/Leadwise_data/\")\n",
        "shutil.move('gtdata_lead_5.npy', \"/content/drive/My Drive/Leadwise_data/\")\n",
        "shutil.move('gtdata_lead_6.npy', \"/content/drive/My Drive/Leadwise_data/\")\n",
        "shutil.move('gtdata_lead_7.npy', \"/content/drive/My Drive/Leadwise_data/\")\n",
        "shutil.move('gtdata_lead_8.npy', \"/content/drive/My Drive/Leadwise_data/\")\n",
        "shutil.move('gtdata_lead_9.npy', \"/content/drive/My Drive/Leadwise_data/\")\n",
        "shutil.move('gtdata_lead_10.npy', \"/content/drive/My Drive/Leadwise_data/\")\n",
        "shutil.move('gtdata_lead_11.npy', \"/content/drive/My Drive/Leadwise_data/\")"
      ],
      "execution_count": null,
      "outputs": [
        {
          "output_type": "execute_result",
          "data": {
            "application/vnd.google.colaboratory.intrinsic+json": {
              "type": "string"
            },
            "text/plain": [
              "'/content/drive/My Drive/Leadwise_data/gtdata_lead_11.npy'"
            ]
          },
          "metadata": {
            "tags": []
          },
          "execution_count": 36
        }
      ]
    },
    {
      "cell_type": "code",
      "metadata": {
        "id": "o_c_ppZ5swOC"
      },
      "source": [
        "labels_lead0 = np.concatenate(lead_0_class_labels).astype(int)\n",
        "labels_lead1 = np.concatenate(lead_1_class_labels).astype(int)\n",
        "labels_lead2 = np.concatenate(lead_2_class_labels).astype(int)\n",
        "labels_lead3 = np.concatenate(lead_3_class_labels).astype(int)\n",
        "labels_lead4 = np.concatenate(lead_4_class_labels).astype(int)\n",
        "labels_lead5 = np.concatenate(lead_5_class_labels).astype(int)\n",
        "labels_lead6 = np.concatenate(lead_6_class_labels).astype(int)\n",
        "labels_lead7 = np.concatenate(lead_7_class_labels).astype(int)\n",
        "labels_lead8 = np.concatenate(lead_8_class_labels).astype(int)\n",
        "labels_lead9 = np.concatenate(lead_9_class_labels).astype(int)\n",
        "labels_lead10 = np.concatenate(lead_10_class_labels).astype(int)\n",
        "labels_lead11 = np.concatenate(lead_11_class_labels).astype(int)"
      ],
      "execution_count": null,
      "outputs": []
    },
    {
      "cell_type": "code",
      "metadata": {
        "id": "K4-FirPiuLn_"
      },
      "source": [
        "np.save('labels_lead0',labels_lead0)\n",
        "np.save('labels_lead1',labels_lead1)\n",
        "np.save('labels_lead2',labels_lead2)\n",
        "np.save('labels_lead3',labels_lead3)\n",
        "np.save('labels_lead4',labels_lead4)\n",
        "np.save('labels_lead5',labels_lead5)\n",
        "np.save('labels_lead6',labels_lead6)\n",
        "np.save('labels_lead7',labels_lead7)\n",
        "np.save('labels_lead8',labels_lead8)\n",
        "np.save('labels_lead9',labels_lead9)\n",
        "np.save('labels_lead10',labels_lead10)\n",
        "np.save('labels_lead11',labels_lead11)"
      ],
      "execution_count": null,
      "outputs": []
    },
    {
      "cell_type": "code",
      "metadata": {
        "colab": {
          "base_uri": "https://localhost:8080/",
          "height": 35
        },
        "id": "EZdk-08duvbs",
        "outputId": "790c53a2-fedf-43a0-db69-2a0940c4ce99"
      },
      "source": [
        "import shutil\n",
        "\n",
        "shutil.move('labels_lead0.npy', \"/content/drive/My Drive/Leadwise_data/\")\n",
        "shutil.move('labels_lead1.npy', \"/content/drive/My Drive/Leadwise_data/\")\n",
        "shutil.move('labels_lead2.npy', \"/content/drive/My Drive/Leadwise_data/\")\n",
        "shutil.move('labels_lead3.npy', \"/content/drive/My Drive/Leadwise_data/\")\n",
        "shutil.move('labels_lead4.npy', \"/content/drive/My Drive/Leadwise_data/\")\n",
        "shutil.move('labels_lead5.npy', \"/content/drive/My Drive/Leadwise_data/\")\n",
        "shutil.move('labels_lead6.npy', \"/content/drive/My Drive/Leadwise_data/\")\n",
        "shutil.move('labels_lead7.npy', \"/content/drive/My Drive/Leadwise_data/\")\n",
        "shutil.move('labels_lead8.npy', \"/content/drive/My Drive/Leadwise_data/\")\n",
        "shutil.move('labels_lead9.npy', \"/content/drive/My Drive/Leadwise_data/\")\n",
        "shutil.move('labels_lead10.npy', \"/content/drive/My Drive/Leadwise_data/\")\n",
        "shutil.move('labels_lead11.npy', \"/content/drive/My Drive/Leadwise_data/\")"
      ],
      "execution_count": null,
      "outputs": [
        {
          "output_type": "execute_result",
          "data": {
            "application/vnd.google.colaboratory.intrinsic+json": {
              "type": "string"
            },
            "text/plain": [
              "'/content/drive/My Drive/Leadwise_data/labels_lead11.npy'"
            ]
          },
          "metadata": {
            "tags": []
          },
          "execution_count": 39
        }
      ]
    },
    {
      "cell_type": "markdown",
      "metadata": {
        "id": "bEw1F__f9czc"
      },
      "source": [
        "##Leadwise data acquisition"
      ]
    },
    {
      "cell_type": "code",
      "metadata": {
        "id": "HlVvju_e9hoK"
      },
      "source": [
        "import os\n",
        "import pandas as pd\n",
        "import numpy as np\n",
        "\n",
        "leadwise_gt_path = \"/content/drive/My Drive/Leadwise_data/gtdata_lead_4.npy\"\n",
        "labels_path = \"/content/drive/My Drive/Leadwise_data/labels_lead4.npy\""
      ],
      "execution_count": null,
      "outputs": []
    },
    {
      "cell_type": "code",
      "metadata": {
        "id": "m85Xf8rd9ulr"
      },
      "source": [
        "import numpy as np\n",
        "from scipy.signal import resample_poly\n",
        "\n",
        "gt_set = []\n",
        "down_250set = []\n",
        "down_125set = []\n",
        "down_100set = []\n",
        "down_50set = []\n",
        "down_25set = []\n",
        "down_20set = []\n",
        "down_10set = []\n",
        "down_5set = []\n",
        "down_2set = []\n",
        "down_1set = []\n",
        "\n",
        "gt_data = np.load(leadwise_gt_path)\n",
        "lead_output_labels = np.load(labels_path)\n",
        "for entry in gt_data:\n",
        "  gt_set.append(entry)\n",
        "  down_250set.append(resample_poly(entry,up=250,down=500))\n",
        "  down_125set.append(resample_poly(entry,up=125,down=500))\n",
        "  down_100set.append(resample_poly(entry,up=100,down=500))\n",
        "  down_50set.append(resample_poly(entry,up=50,down=500))\n",
        "  down_25set.append(resample_poly(entry,up=25,down=500))\n",
        "  down_20set.append(resample_poly(entry,up=20,down=500))\n",
        "  down_10set.append(resample_poly(entry,up=10,down=500))\n",
        "  down_5set.append(resample_poly(entry,up=5,down=500))\n",
        "  down_2set.append(resample_poly(entry,up=2,down=500))\n",
        "  down_1set.append(resample_poly(entry,up=1,down=500))"
      ],
      "execution_count": null,
      "outputs": []
    },
    {
      "cell_type": "code",
      "metadata": {
        "id": "2h-sdQg2Gj6-"
      },
      "source": [
        "np.save('down_250set_lead4',np.array(down_250set))"
      ],
      "execution_count": null,
      "outputs": []
    },
    {
      "cell_type": "code",
      "metadata": {
        "colab": {
          "base_uri": "https://localhost:8080/",
          "height": 35
        },
        "id": "c4TNcW7MHGhP",
        "outputId": "8ab11367-1e39-4699-f625-392443e19d49"
      },
      "source": [
        "import shutil\n",
        "\n",
        "shutil.move('down_250set_lead4.npy', \"/content/drive/My Drive/\")"
      ],
      "execution_count": null,
      "outputs": [
        {
          "output_type": "execute_result",
          "data": {
            "application/vnd.google.colaboratory.intrinsic+json": {
              "type": "string"
            },
            "text/plain": [
              "'/content/drive/My Drive/down_250set_lead4.npy'"
            ]
          },
          "metadata": {
            "tags": []
          },
          "execution_count": 491
        }
      ]
    },
    {
      "cell_type": "code",
      "metadata": {
        "colab": {
          "base_uri": "https://localhost:8080/"
        },
        "id": "-2nD20LVFYSW",
        "outputId": "df6d594e-9b33-419b-bd55-5d13a872f713"
      },
      "source": [
        "len(down_250set)"
      ],
      "execution_count": null,
      "outputs": [
        {
          "output_type": "execute_result",
          "data": {
            "text/plain": [
              "6877"
            ]
          },
          "metadata": {
            "tags": []
          },
          "execution_count": 44
        }
      ]
    },
    {
      "cell_type": "code",
      "metadata": {
        "colab": {
          "base_uri": "https://localhost:8080/"
        },
        "id": "RAxKfTqFKK4M",
        "outputId": "543f623d-950b-49dd-cd29-59534a1c92f2"
      },
      "source": [
        "len(lead_output_labels[:4622])"
      ],
      "execution_count": null,
      "outputs": [
        {
          "output_type": "execute_result",
          "data": {
            "text/plain": [
              "4622"
            ]
          },
          "metadata": {
            "tags": []
          },
          "execution_count": 45
        }
      ]
    }
  ]
}