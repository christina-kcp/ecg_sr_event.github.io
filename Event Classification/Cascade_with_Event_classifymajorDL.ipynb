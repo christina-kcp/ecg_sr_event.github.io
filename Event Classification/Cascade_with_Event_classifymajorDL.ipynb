{
  "nbformat": 4,
  "nbformat_minor": 0,
  "metadata": {
    "accelerator": "GPU",
    "colab": {
      "name": "Cascade_with_Event_classifymajorDL.ipynb",
      "provenance": [],
      "collapsed_sections": [
        "hCpruz3-US_b",
        "C5At6GH_CnVl",
        "YdpVZxy77giQ",
        "WUCrVruhz69A",
        "wEpIumasV6b-",
        "5qFwy2pfV85L",
        "PBVvZfGS8zNZ",
        "Xfdcj0-NOaRm",
        "vSNCSsk9mGWu",
        "VtnhduGa5QNd",
        "IOz56_uLmUBF",
        "uiWTCgdy_8-k",
        "TQfyHirImZrj",
        "A4X_USEgmfAu",
        "fum6tpYPJE-S",
        "f_rSP3NzNCiT",
        "W3Jo8wiYmili",
        "rC4XwIiibAu5",
        "IXz3aWLPtV8l",
        "-i4Gc7XVl08h",
        "rVaA2438KT_b",
        "8D0MAmm2uw8P"
      ],
      "toc_visible": true
    },
    "kernelspec": {
      "display_name": "Python 3",
      "name": "python3"
    }
  },
  "cells": [
    {
      "cell_type": "markdown",
      "metadata": {
        "id": "hCpruz3-US_b"
      },
      "source": [
        "#Get data from drive"
      ]
    },
    {
      "cell_type": "code",
      "metadata": {
        "colab": {
          "base_uri": "https://localhost:8080/"
        },
        "id": "ExeVLZ3KHVIm",
        "outputId": "d063f0a3-6d22-4ec5-ca82-9662cdfb09b3"
      },
      "source": [
        "from google.colab import drive\n",
        "drive.mount(\"/content/drive\", force_remount=True)"
      ],
      "execution_count": null,
      "outputs": [
        {
          "output_type": "stream",
          "text": [
            "Mounted at /content/drive\n"
          ],
          "name": "stdout"
        }
      ]
    },
    {
      "cell_type": "code",
      "metadata": {
        "colab": {
          "base_uri": "https://localhost:8080/"
        },
        "id": "t5MkPlH_H-Ve",
        "outputId": "b8d5b4fe-40f7-47dc-8fc5-78abd3257b8d"
      },
      "source": [
        "!ls \"/content/drive/My Drive/Leadwise_data\""
      ],
      "execution_count": null,
      "outputs": [
        {
          "output_type": "stream",
          "text": [
            "cpsc_leadclass_balanced_labels.npy  gtdata_lead_1.npy  labels_lead11.npy\n",
            "cpsc_leadclass_balanced.npy\t    gtdata_lead_2.npy  labels_lead1.npy\n",
            "ecgsrcnn_100_labels.npy\t\t    gtdata_lead_3.npy  labels_lead2.npy\n",
            "ecgsrcnn_100op.npy\t\t    gtdata_lead_4.npy  labels_lead3.npy\n",
            "ecgsrcnn_125_labels.npy\t\t    gtdata_lead_5.npy  labels_lead4.npy\n",
            "ecgsrcnn_125op.npy\t\t    gtdata_lead_6.npy  labels_lead5.npy\n",
            "ecgsrcnn_250_labels.npy\t\t    gtdata_lead_7.npy  labels_lead6.npy\n",
            "ecgsrcnn_250op.npy\t\t    gtdata_lead_8.npy  labels_lead7.npy\n",
            "gtdata_lead_0.npy\t\t    gtdata_lead_9.npy  labels_lead8.npy\n",
            "gtdata_lead_10.npy\t\t    labels_lead0.npy   labels_lead9.npy\n",
            "gtdata_lead_11.npy\t\t    labels_lead10.npy\n"
          ],
          "name": "stdout"
        }
      ]
    },
    {
      "cell_type": "markdown",
      "metadata": {
        "id": "C5At6GH_CnVl"
      },
      "source": [
        "#Acquire data: CPSC"
      ]
    },
    {
      "cell_type": "code",
      "metadata": {
        "colab": {
          "base_uri": "https://localhost:8080/"
        },
        "id": "FdR9uL5-VOt4",
        "outputId": "96816bb3-f546-4304-c169-8d0c3ea9029c"
      },
      "source": [
        "import numpy as np\n",
        "#imbalanced dataset\n",
        "ground_truth_cpsc_data = np.load(\"/content/drive/My Drive/gt_set.npy\")\n",
        "cpsc_labels = np.load(\"/content/drive/My Drive/cpsc_classlabels.npy\")\n",
        "print(len(ground_truth_cpsc_data))\n",
        "print(len(cpsc_labels))"
      ],
      "execution_count": null,
      "outputs": [
        {
          "output_type": "stream",
          "text": [
            "82524\n",
            "82524\n"
          ],
          "name": "stdout"
        }
      ]
    },
    {
      "cell_type": "markdown",
      "metadata": {
        "id": "YdpVZxy77giQ"
      },
      "source": [
        "##Prepare event classification dataset"
      ]
    },
    {
      "cell_type": "code",
      "metadata": {
        "id": "mu9JAjtZR9hs"
      },
      "source": [
        "leadwise_main_path = \"/content/drive/My Drive/Leadwise_data/\""
      ],
      "execution_count": null,
      "outputs": []
    },
    {
      "cell_type": "code",
      "metadata": {
        "colab": {
          "base_uri": "https://localhost:8080/"
        },
        "id": "1GXYeZPSR2Z_",
        "outputId": "3675b278-41f0-406a-d219-43959f447b3b"
      },
      "source": [
        "import numpy as np\n",
        "from sklearn.utils import shuffle\n",
        "\n",
        "gt_balanced_ecg = np.load(leadwise_main_path + \"cpsc_leadclass_balanced.npy\")\n",
        "gt_balanced_labels = np.load(leadwise_main_path + \"cpsc_leadclass_balanced_labels.npy\")\n",
        "\n",
        "srcnn_250op = np.load(leadwise_main_path + \"ecgsrcnn_250op.npy\")\n",
        "srcnn_250labels = np.load(leadwise_main_path + \"ecgsrcnn_250_labels.npy\")\n",
        "\n",
        "srcnn_125op = np.load(leadwise_main_path + \"ecgsrcnn_125op.npy\")\n",
        "srcnn_125labels = np.load(leadwise_main_path + \"ecgsrcnn_125_labels.npy\")\n",
        "\n",
        "srcnn_100op = np.load(leadwise_main_path + \"ecgsrcnn_100op.npy\")\n",
        "srcnn_100labels = np.load(leadwise_main_path + \"ecgsrcnn_100_labels.npy\")\n",
        "\n",
        "temp_srcnn_op = np.concatenate((srcnn_250op,srcnn_125op,srcnn_100op),axis=0)\n",
        "temp_srcnn_labels = np.concatenate((srcnn_250labels,srcnn_125labels,srcnn_100labels))\n",
        "\n",
        "temp_srcnn_op_shuffled,temp_srcnn_labels_shuffled = shuffle(temp_srcnn_op,temp_srcnn_labels, random_state=42)\n",
        "print(temp_srcnn_op_shuffled.shape)\n",
        "print(temp_srcnn_labels_shuffled.shape)"
      ],
      "execution_count": null,
      "outputs": [
        {
          "output_type": "stream",
          "text": [
            "(65448, 3000, 1)\n",
            "(65448,)\n"
          ],
          "name": "stdout"
        }
      ]
    },
    {
      "cell_type": "markdown",
      "metadata": {
        "id": "WUCrVruhz69A"
      },
      "source": [
        "##Injecting ECGSRCNN processed data to the prepared dataset"
      ]
    },
    {
      "cell_type": "code",
      "metadata": {
        "id": "bAbyDaInTv6G"
      },
      "source": [
        "#We inject 20% of ECG-SRCNN processed \n",
        "section_needed = np.int(0.2 * temp_srcnn_op_shuffled.shape[0])\n",
        "\n",
        "srcnn_shuffledop_temp = np.reshape(temp_srcnn_op_shuffled,(temp_srcnn_op_shuffled.shape[0],temp_srcnn_op_shuffled.shape[1]))\n",
        "\n",
        "complete_ecg_500set = np.concatenate((gt_balanced_ecg,srcnn_shuffledop_temp[:section_needed]),axis=0)\n",
        "complete_ecg_500labels = np.concatenate((gt_balanced_labels,temp_srcnn_labels_shuffled[:section_needed]))"
      ],
      "execution_count": null,
      "outputs": []
    },
    {
      "cell_type": "code",
      "metadata": {
        "id": "ALuHTnNyGXbG"
      },
      "source": [
        "srcnn_test_set = srcnn_shuffledop_temp[section_needed:srcnn_shuffledop_temp.shape[0]]\n",
        "srcnn_test_labels = temp_srcnn_labels_shuffled[section_needed:temp_srcnn_labels_shuffled.shape[0]]"
      ],
      "execution_count": null,
      "outputs": []
    },
    {
      "cell_type": "code",
      "metadata": {
        "colab": {
          "base_uri": "https://localhost:8080/"
        },
        "id": "j9SKsewOUgz9",
        "outputId": "99bef3ca-196c-4488-b229-eeeff4b30974"
      },
      "source": [
        "print(complete_ecg_500set.shape)\n",
        "print(complete_ecg_500labels.shape)\n",
        "print(srcnn_test_set.shape)"
      ],
      "execution_count": null,
      "outputs": [
        {
          "output_type": "stream",
          "text": [
            "(34905, 3000)\n",
            "(34905,)\n",
            "(52359, 3000)\n"
          ],
          "name": "stdout"
        }
      ]
    },
    {
      "cell_type": "markdown",
      "metadata": {
        "id": "wEpIumasV6b-"
      },
      "source": [
        "#Normalization"
      ]
    },
    {
      "cell_type": "markdown",
      "metadata": {
        "id": "wAbGS96M7qL_"
      },
      "source": [
        "Not required when the dataset is already within definite intervals"
      ]
    },
    {
      "cell_type": "code",
      "metadata": {
        "id": "GXsz9YbVgtIb"
      },
      "source": [
        "def normaliseSignal(data):\n",
        "  return ((data - np.mean(data)) / (np.max(data) - np.min(data))) + 0.5"
      ],
      "execution_count": null,
      "outputs": []
    },
    {
      "cell_type": "code",
      "metadata": {
        "id": "EFnWZmaroR9P"
      },
      "source": [
        "ecg_norm = normaliseSignal(ecg)\n",
        "plt.plot(ecg_norm[:2700])"
      ],
      "execution_count": null,
      "outputs": []
    },
    {
      "cell_type": "code",
      "metadata": {
        "colab": {
          "base_uri": "https://localhost:8080/"
        },
        "id": "CRmJqoaxpk-O",
        "outputId": "f9c1ea58-1602-46c1-b78b-731eefe8727b"
      },
      "source": [
        "normalized_set = []\n",
        "for reading in ground_truth_cpsc_data:\n",
        "  normalized_set.append(normaliseSignal(reading))\n",
        "\n",
        "normalized_set = np.array(normalized_set)"
      ],
      "execution_count": null,
      "outputs": [
        {
          "output_type": "stream",
          "text": [
            "/usr/local/lib/python3.7/dist-packages/ipykernel_launcher.py:2: RuntimeWarning: invalid value encountered in true_divide\n",
            "  \n"
          ],
          "name": "stderr"
        }
      ]
    },
    {
      "cell_type": "code",
      "metadata": {
        "colab": {
          "base_uri": "https://localhost:8080/"
        },
        "id": "j0TkRXeup8HB",
        "outputId": "7966e29b-dbd0-488b-b64a-0d974afef6ae"
      },
      "source": [
        "print(normalized_set.shape)"
      ],
      "execution_count": null,
      "outputs": [
        {
          "output_type": "execute_result",
          "data": {
            "text/plain": [
              "(82524, 3000)"
            ]
          },
          "metadata": {
            "tags": []
          },
          "execution_count": 6
        }
      ]
    },
    {
      "cell_type": "markdown",
      "metadata": {
        "id": "5qFwy2pfV85L"
      },
      "source": [
        "#Denoising"
      ]
    },
    {
      "cell_type": "markdown",
      "metadata": {
        "id": "xUebKmeJ8LjG"
      },
      "source": [
        "Not required when using CPSC dataset. This is because CPSC dataset is quite clean dataset, and further denoising will lead to loss of crucial ECG information."
      ]
    },
    {
      "cell_type": "code",
      "metadata": {
        "id": "epipo8eARJNi"
      },
      "source": [
        "import tensorflow as tf\n",
        "import tensorflow.keras.backend as K\n",
        "from tensorflow.keras.models import Model\n",
        "from tensorflow.keras.layers import Input, Dense, Conv1D, Conv1DTranspose\n",
        "from tensorflow.keras.layers import BatchNormalization, MaxPool1D, UpSampling1D\n",
        "from tensorflow.keras.layers import Concatenate, Add, Dropout, ReLU, Lambda, Activation, LeakyReLU, PReLU, Subtract, Reshape\n",
        "from IPython.display import SVG\n",
        "\n",
        "from time import time\n",
        "import numpy as np"
      ],
      "execution_count": null,
      "outputs": []
    },
    {
      "cell_type": "code",
      "metadata": {
        "colab": {
          "base_uri": "https://localhost:8080/"
        },
        "id": "AwmazdWA0vTw",
        "outputId": "8508e2d8-a37d-4d0e-db06-b07cec8f0f5d"
      },
      "source": [
        "raw_data = []\n",
        "raw_target = []\n",
        "for reading in afdb_signals_0:\n",
        "  raw_data.append(normaliseSignal(reading))\n",
        "  raw_target.append(0)\n",
        "for reading in afdb_signals_1:\n",
        "  raw_data.append(normaliseSignal(reading)) \n",
        "  raw_target.append(0)\n",
        "for reading in vfdb_signals_0:\n",
        "  raw_data.append(normaliseSignal(reading)) \n",
        "  raw_target.append(1)\n",
        "for reading in vfdb_signals_1:\n",
        "  raw_data.append(normaliseSignal(reading))\n",
        "  raw_target.append(1)\n",
        "for reading in nsrdb_signals_0:\n",
        "  raw_data.append(normaliseSignal(reading)) \n",
        "  raw_target.append(2)\n",
        "for reading in nsrdb_signals_1:\n",
        "  raw_data.append(normaliseSignal(reading))\n",
        "  raw_target.append(2)\n",
        "\n",
        "print(len(raw_data))\n",
        "print(len(raw_target))"
      ],
      "execution_count": null,
      "outputs": [
        {
          "output_type": "stream",
          "text": [
            "126\n",
            "126\n"
          ],
          "name": "stdout"
        }
      ]
    },
    {
      "cell_type": "code",
      "metadata": {
        "colab": {
          "base_uri": "https://localhost:8080/"
        },
        "id": "st4Lqb1WWPle",
        "outputId": "5cb19394-4bed-4c2e-dda7-fd53db2753e1"
      },
      "source": [
        "#To check saved model\n",
        "new_model = tf.keras.models.load_model('/content/drive/My Drive/unet1d_new.h5')\n",
        "\n",
        "# Show the model architecture\n",
        "new_model.summary()"
      ],
      "execution_count": null,
      "outputs": [
        {
          "output_type": "stream",
          "text": [
            "Model: \"functional_1\"\n",
            "__________________________________________________________________________________________________\n",
            "Layer (type)                    Output Shape         Param #     Connected to                     \n",
            "==================================================================================================\n",
            "input_1 (InputLayer)            [(None, 3600, 1)]    0                                            \n",
            "__________________________________________________________________________________________________\n",
            "conv1d (Conv1D)                 (None, 3600, 12)     252         input_1[0][0]                    \n",
            "__________________________________________________________________________________________________\n",
            "conv1d_1 (Conv1D)               (None, 3600, 12)     2892        conv1d[0][0]                     \n",
            "__________________________________________________________________________________________________\n",
            "conv1d_2 (Conv1D)               (None, 3600, 12)     2892        conv1d_1[0][0]                   \n",
            "__________________________________________________________________________________________________\n",
            "max_pooling1d (MaxPooling1D)    (None, 360, 12)      0           conv1d_2[0][0]                   \n",
            "__________________________________________________________________________________________________\n",
            "conv1d_3 (Conv1D)               (None, 360, 32)      3872        max_pooling1d[0][0]              \n",
            "__________________________________________________________________________________________________\n",
            "conv1d_4 (Conv1D)               (None, 360, 32)      10272       conv1d_3[0][0]                   \n",
            "__________________________________________________________________________________________________\n",
            "conv1d_5 (Conv1D)               (None, 360, 32)      10272       conv1d_4[0][0]                   \n",
            "__________________________________________________________________________________________________\n",
            "max_pooling1d_1 (MaxPooling1D)  (None, 72, 32)       0           conv1d_5[0][0]                   \n",
            "__________________________________________________________________________________________________\n",
            "conv1d_6 (Conv1D)               (None, 72, 48)       7728        max_pooling1d_1[0][0]            \n",
            "__________________________________________________________________________________________________\n",
            "conv1d_7 (Conv1D)               (None, 72, 48)       11568       conv1d_6[0][0]                   \n",
            "__________________________________________________________________________________________________\n",
            "conv1d_8 (Conv1D)               (None, 72, 48)       11568       conv1d_7[0][0]                   \n",
            "__________________________________________________________________________________________________\n",
            "max_pooling1d_2 (MaxPooling1D)  (None, 36, 48)       0           conv1d_8[0][0]                   \n",
            "__________________________________________________________________________________________________\n",
            "conv1d_9 (Conv1D)               (None, 36, 96)       23136       max_pooling1d_2[0][0]            \n",
            "__________________________________________________________________________________________________\n",
            "conv1d_transpose (Conv1DTranspo (None, 36, 96)       23136       max_pooling1d_2[0][0]            \n",
            "__________________________________________________________________________________________________\n",
            "conv1d_10 (Conv1D)              (None, 36, 96)       46176       conv1d_9[0][0]                   \n",
            "__________________________________________________________________________________________________\n",
            "conv1d_transpose_1 (Conv1DTrans (None, 36, 96)       46176       conv1d_transpose[0][0]           \n",
            "__________________________________________________________________________________________________\n",
            "subtract (Subtract)             (None, 36, 96)       0           conv1d_10[0][0]                  \n",
            "                                                                 conv1d_transpose_1[0][0]         \n",
            "__________________________________________________________________________________________________\n",
            "concatenate (Concatenate)       (None, 36, 288)      0           conv1d_10[0][0]                  \n",
            "                                                                 subtract[0][0]                   \n",
            "                                                                 conv1d_transpose_1[0][0]         \n",
            "__________________________________________________________________________________________________\n",
            "lambda (Lambda)                 (None, 72, 48)       0           conv1d_8[0][0]                   \n",
            "__________________________________________________________________________________________________\n",
            "up_sampling1d (UpSampling1D)    (None, 72, 288)      0           concatenate[0][0]                \n",
            "__________________________________________________________________________________________________\n",
            "concatenate_1 (Concatenate)     (None, 72, 336)      0           lambda[0][0]                     \n",
            "                                                                 up_sampling1d[0][0]              \n",
            "__________________________________________________________________________________________________\n",
            "conv1d_transpose_2 (Conv1DTrans (None, 72, 48)       80688       concatenate_1[0][0]              \n",
            "__________________________________________________________________________________________________\n",
            "add (Add)                       (None, 72, 48)       0           conv1d_transpose_2[0][0]         \n",
            "                                                                 conv1d_8[0][0]                   \n",
            "__________________________________________________________________________________________________\n",
            "conv1d_transpose_3 (Conv1DTrans (None, 72, 48)       11568       add[0][0]                        \n",
            "__________________________________________________________________________________________________\n",
            "add_1 (Add)                     (None, 72, 48)       0           conv1d_transpose_3[0][0]         \n",
            "                                                                 conv1d_8[0][0]                   \n",
            "__________________________________________________________________________________________________\n",
            "conv1d_transpose_4 (Conv1DTrans (None, 72, 48)       11568       add_1[0][0]                      \n",
            "__________________________________________________________________________________________________\n",
            "add_2 (Add)                     (None, 72, 48)       0           conv1d_transpose_4[0][0]         \n",
            "                                                                 conv1d_8[0][0]                   \n",
            "__________________________________________________________________________________________________\n",
            "lambda_1 (Lambda)               (None, 360, 8)       0           conv1d_5[0][0]                   \n",
            "__________________________________________________________________________________________________\n",
            "up_sampling1d_1 (UpSampling1D)  (None, 360, 48)      0           add_2[0][0]                      \n",
            "__________________________________________________________________________________________________\n",
            "concatenate_2 (Concatenate)     (None, 360, 56)      0           lambda_1[0][0]                   \n",
            "                                                                 up_sampling1d_1[0][0]            \n",
            "__________________________________________________________________________________________________\n",
            "conv1d_transpose_5 (Conv1DTrans (None, 360, 32)      17952       concatenate_2[0][0]              \n",
            "__________________________________________________________________________________________________\n",
            "add_3 (Add)                     (None, 360, 32)      0           conv1d_transpose_5[0][0]         \n",
            "                                                                 conv1d_5[0][0]                   \n",
            "__________________________________________________________________________________________________\n",
            "conv1d_transpose_6 (Conv1DTrans (None, 360, 32)      10272       add_3[0][0]                      \n",
            "__________________________________________________________________________________________________\n",
            "add_4 (Add)                     (None, 360, 32)      0           conv1d_transpose_6[0][0]         \n",
            "                                                                 conv1d_5[0][0]                   \n",
            "__________________________________________________________________________________________________\n",
            "conv1d_transpose_7 (Conv1DTrans (None, 360, 32)      10272       add_4[0][0]                      \n",
            "__________________________________________________________________________________________________\n",
            "add_5 (Add)                     (None, 360, 32)      0           conv1d_transpose_7[0][0]         \n",
            "                                                                 conv1d_5[0][0]                   \n",
            "__________________________________________________________________________________________________\n",
            "lambda_2 (Lambda)               (None, 3600, 10)     0           conv1d_2[0][0]                   \n",
            "__________________________________________________________________________________________________\n",
            "up_sampling1d_2 (UpSampling1D)  (None, 3600, 32)     0           add_5[0][0]                      \n",
            "__________________________________________________________________________________________________\n",
            "concatenate_3 (Concatenate)     (None, 3600, 42)     0           lambda_2[0][0]                   \n",
            "                                                                 up_sampling1d_2[0][0]            \n",
            "__________________________________________________________________________________________________\n",
            "conv1d_transpose_8 (Conv1DTrans (None, 3600, 12)     10092       concatenate_3[0][0]              \n",
            "__________________________________________________________________________________________________\n",
            "add_6 (Add)                     (None, 3600, 12)     0           conv1d_transpose_8[0][0]         \n",
            "                                                                 conv1d_2[0][0]                   \n",
            "__________________________________________________________________________________________________\n",
            "conv1d_transpose_9 (Conv1DTrans (None, 3600, 12)     2892        add_6[0][0]                      \n",
            "__________________________________________________________________________________________________\n",
            "add_7 (Add)                     (None, 3600, 12)     0           conv1d_transpose_9[0][0]         \n",
            "                                                                 conv1d_2[0][0]                   \n",
            "__________________________________________________________________________________________________\n",
            "conv1d_transpose_10 (Conv1DTran (None, 3600, 12)     2892        add_7[0][0]                      \n",
            "__________________________________________________________________________________________________\n",
            "add_8 (Add)                     (None, 3600, 12)     0           conv1d_transpose_10[0][0]        \n",
            "                                                                 conv1d_2[0][0]                   \n",
            "__________________________________________________________________________________________________\n",
            "conv1d_11 (Conv1D)              (None, 3600, 1)      13          add_8[0][0]                      \n",
            "__________________________________________________________________________________________________\n",
            "dense (Dense)                   (None, 3600, 1)      2           conv1d_11[0][0]                  \n",
            "==================================================================================================\n",
            "Total params: 358,151\n",
            "Trainable params: 358,151\n",
            "Non-trainable params: 0\n",
            "__________________________________________________________________________________________________\n"
          ],
          "name": "stdout"
        }
      ]
    },
    {
      "cell_type": "code",
      "metadata": {
        "id": "-h54NW6u5XQM"
      },
      "source": [
        "def denoise_ECG_data(signal_db):\n",
        "  all_chunk_indices = []\n",
        "  all_chunks = []\n",
        "  i = 0\n",
        "  while(i<len(signal_db)):\n",
        "    all_chunk_indices.append(i)\n",
        "    i += 3600\n",
        "\n",
        "  for j in all_chunk_indices:\n",
        "    if j+3600 <= len(signal_db):\n",
        "      all_chunks.append(signal_db[j:j+3600])\n",
        "    else:\n",
        "      temp = signal_db[j:len(signal_db)]\n",
        "      temp_chunk = np.pad(temp,(0,3600-len(temp)),'constant',constant_values=(0))\n",
        "      all_chunks.append(temp_chunk)\n",
        "\n",
        "  readings = np.array(all_chunks)\n",
        "  reconstructions = new_model.predict(readings)\n",
        "  den_signal = reconstructions.ravel()\n",
        "  fin_den_sig = den_signal[: len(signal_db)]\n",
        "  return fin_den_sig"
      ],
      "execution_count": null,
      "outputs": []
    },
    {
      "cell_type": "code",
      "metadata": {
        "colab": {
          "base_uri": "https://localhost:8080/"
        },
        "id": "aJC5hcFNqd-o",
        "outputId": "da9c008d-7cfd-48ab-9205-1033aa4b86e2"
      },
      "source": [
        "denoised_ecgs = []\n",
        "for i in range(len(raw_data)):\n",
        "  temp_denoised = denoise_ECG_data(raw_data[i])\n",
        "  denoised_ecgs.append(temp_denoised)\n",
        "print(len(denoised_ecgs))"
      ],
      "execution_count": null,
      "outputs": [
        {
          "output_type": "stream",
          "text": [
            "126\n"
          ],
          "name": "stdout"
        }
      ]
    },
    {
      "cell_type": "markdown",
      "metadata": {
        "id": "PBVvZfGS8zNZ"
      },
      "source": [
        "#Comparison study for 2/3/5/6/7 classes"
      ]
    },
    {
      "cell_type": "markdown",
      "metadata": {
        "id": "30z99SRA8Tio"
      },
      "source": [
        "This section is only for ablation study of event classification"
      ]
    },
    {
      "cell_type": "code",
      "metadata": {
        "id": "PvVV4W-A82jG"
      },
      "source": [
        "import numpy as np\n",
        "\n",
        "ecg_normal = []\n",
        "ecg_af = []\n",
        "ecg_iavb = []\n",
        "ecg_lbbb = []\n",
        "ecg_rbbb = []\n",
        "ecg_pac = []\n",
        "ecg_pvc = []\n",
        "ecg_std = []\n",
        "ecg_ste = []\n",
        "\n",
        "for i in cpsc_labels:\n",
        "  if i == 1:\n",
        "    ecg_normal.append(normalized_set[i])\n",
        "  elif i == 2:\n",
        "    ecg_af.append(normalized_set[i])\n",
        "  elif i == 3:\n",
        "    ecg_iavb.append(normalized_set[i])\n",
        "  elif i == 4:\n",
        "    ecg_lbbb.append(normalized_set[i])\n",
        "  elif i == 5:\n",
        "    ecg_rbbb.append(normalized_set[i])\n",
        "  elif i == 6:\n",
        "    ecg_pac.append(normalized_set[i])\n",
        "  elif i == 7:\n",
        "    ecg_pvc.append(normalized_set[i])\n",
        "  elif i == 8:\n",
        "    ecg_std.append(normalized_set[i])\n",
        "  elif i == 9:\n",
        "    ecg_ste.append(normalized_set[i])"
      ],
      "execution_count": null,
      "outputs": []
    },
    {
      "cell_type": "markdown",
      "metadata": {
        "id": "Xfdcj0-NOaRm"
      },
      "source": [
        "##To handle class imbalance"
      ]
    },
    {
      "cell_type": "code",
      "metadata": {
        "colab": {
          "base_uri": "https://localhost:8080/"
        },
        "id": "PEw9YJOqOOmL",
        "outputId": "ee17fefd-3454-4df1-9fd1-d0ef8bc86729"
      },
      "source": [
        "min_readings_classwise = min(len(ecg_normal),len(ecg_af),len(ecg_iavb),len(ecg_lbbb),\n",
        "                             len(ecg_rbbb),len(ecg_pac),len(ecg_pvc),len(ecg_std),len(ecg_ste))\n",
        "print(min_readings_classwise)"
      ],
      "execution_count": null,
      "outputs": [
        {
          "output_type": "execute_result",
          "data": {
            "text/plain": [
              "2424"
            ]
          },
          "metadata": {
            "tags": []
          },
          "execution_count": 132
        }
      ]
    },
    {
      "cell_type": "code",
      "metadata": {
        "id": "V1Y8sVqoNncB"
      },
      "source": [
        "ecg_normal = ecg_normal[:min_readings_classwise]\n",
        "ecg_af = ecg_af[:min_readings_classwise]\n",
        "ecg_iavb = ecg_iavb[:min_readings_classwise]\n",
        "ecg_lbbb = ecg_lbbb[:min_readings_classwise]\n",
        "ecg_rbbb = ecg_rbbb[:min_readings_classwise]\n",
        "ecg_pac = ecg_pac[:min_readings_classwise]\n",
        "ecg_pvc = ecg_pvc[:min_readings_classwise]\n",
        "ecg_std = ecg_std[:min_readings_classwise]\n",
        "ecg_ste = ecg_ste[:min_readings_classwise]"
      ],
      "execution_count": null,
      "outputs": []
    },
    {
      "cell_type": "code",
      "metadata": {
        "id": "unnmrzr2QOzl"
      },
      "source": [
        "normal_labels = np.ones(len(ecg_normal))  ###1\n",
        "af_labels = 2 * np.ones(len(ecg_af)) ####2\n",
        "iavb_labels = 3 * np.ones(len(ecg_iavb)) ###3\n",
        "lbbb_labels = 4 * np.ones(len(ecg_lbbb)) ###4\n",
        "rbbb_labels = 5 * np.ones(len(ecg_rbbb)) ###5\n",
        "pac_labels = 6 * np.ones(len(ecg_pac)) ###6\n",
        "pvc_labels = 7 * np.ones(len(ecg_pvc)) ###7\n",
        "std_labels = 8 * np.ones(len(ecg_std)) ###8\n",
        "ste_labels = 9 * np.ones(len(ecg_ste)) ###9"
      ],
      "execution_count": null,
      "outputs": []
    },
    {
      "cell_type": "code",
      "metadata": {
        "id": "uX0GlWbsEGfO"
      },
      "source": [
        "binary_dataset_ecg = np.concatenate((ecg_normal,ecg_af),axis = 0)\n",
        "ternary_dataset_ecg = np.concatenate((ecg_normal,ecg_af,ecg_iavb),axis = 0)\n",
        "pentanary_dataset_ecg = np.concatenate((ecg_normal,ecg_af,ecg_iavb,ecg_lbbb,ecg_rbbb),axis=0)\n",
        "hexanary_dataset_ecg = np.concatenate((ecg_normal,ecg_af,ecg_iavb,ecg_lbbb,ecg_rbbb,ecg_pac),axis=0)\n",
        "septanary_dataset_ecg = np.concatenate((ecg_normal,ecg_af,ecg_iavb,ecg_lbbb,ecg_rbbb,ecg_pac,ecg_pvc),axis=0)\n",
        "complete_balanced_set = np.concatenate((ecg_normal,ecg_af,ecg_iavb,ecg_lbbb,ecg_rbbb,\n",
        "                                        ecg_pac,ecg_pvc,ecg_std,ecg_ste),axis=0)"
      ],
      "execution_count": null,
      "outputs": []
    },
    {
      "cell_type": "code",
      "metadata": {
        "colab": {
          "base_uri": "https://localhost:8080/"
        },
        "id": "vA8SlL3pf1bD",
        "outputId": "5689be14-dab7-4658-9239-7283d41e2409"
      },
      "source": [
        "print(len(complete_balanced_labels))"
      ],
      "execution_count": null,
      "outputs": [
        {
          "output_type": "execute_result",
          "data": {
            "text/plain": [
              "21816"
            ]
          },
          "metadata": {
            "tags": []
          },
          "execution_count": 165
        }
      ]
    },
    {
      "cell_type": "code",
      "metadata": {
        "id": "6KfDBX7UH-TL"
      },
      "source": [
        "binary_dataset_labels = np.concatenate((normal_labels,af_labels))\n",
        "ternary_dataset_labels = np.concatenate((normal_labels,af_labels,iavb_labels))\n",
        "pentanary_dataset_labels = np.concatenate((normal_labels,af_labels,iavb_labels,lbbb_labels,rbbb_labels))\n",
        "hexanary_dataset_labels = np.concatenate((normal_labels,af_labels,iavb_labels,lbbb_labels,rbbb_labels,pac_labels))\n",
        "septanary_dataset_labels = np.concatenate((normal_labels,af_labels,iavb_labels,lbbb_labels,rbbb_labels,pac_labels,pvc_labels))\n",
        "complete_balanced_labels = np.concatenate((normal_labels,af_labels,iavb_labels,lbbb_labels,\n",
        "                                           rbbb_labels,pac_labels,pvc_labels,std_labels,ste_labels))"
      ],
      "execution_count": null,
      "outputs": []
    },
    {
      "cell_type": "markdown",
      "metadata": {
        "id": "W2dJoVvt8y-h"
      },
      "source": [
        "This temporary set is only classwise balanced, not leadwise"
      ]
    },
    {
      "cell_type": "code",
      "metadata": {
        "id": "Wa9a2m4Fe3V_"
      },
      "source": [
        "np.save(\"complete_balanced_cpsc\",complete_balanced_set)\n",
        "np.save(\"complete_balanced_labelscpsc\",complete_balanced_labels)"
      ],
      "execution_count": null,
      "outputs": []
    },
    {
      "cell_type": "code",
      "metadata": {
        "colab": {
          "base_uri": "https://localhost:8080/",
          "height": 35
        },
        "id": "v7dEHeEMfKv9",
        "outputId": "a7dd2232-b783-4e17-85df-8bb354bbb5a4"
      },
      "source": [
        "import shutil\n",
        "\n",
        "shutil.move('complete_balanced_cpsc.npy', \"/content/drive/My Drive/\")\n",
        "shutil.move('complete_balanced_labelscpsc.npy', \"/content/drive/My Drive/\")"
      ],
      "execution_count": null,
      "outputs": [
        {
          "output_type": "execute_result",
          "data": {
            "application/vnd.google.colaboratory.intrinsic+json": {
              "type": "string"
            },
            "text/plain": [
              "'/content/drive/My Drive/complete_balanced_labelscpsc.npy'"
            ]
          },
          "metadata": {
            "tags": []
          },
          "execution_count": 163
        }
      ]
    },
    {
      "cell_type": "markdown",
      "metadata": {
        "id": "Y8fVAa1cWAWh"
      },
      "source": [
        "#Classification"
      ]
    },
    {
      "cell_type": "markdown",
      "metadata": {
        "id": "vSNCSsk9mGWu"
      },
      "source": [
        "##Imports"
      ]
    },
    {
      "cell_type": "code",
      "metadata": {
        "id": "yp947L1UqJDD"
      },
      "source": [
        "import tensorflow as tf\n",
        "import tensorflow.keras.backend as K\n",
        "from tensorflow.keras.models import Model, Sequential\n",
        "from tensorflow.keras.layers import Input, Dense, Conv1D, Conv1DTranspose, Flatten\n",
        "from tensorflow.keras.layers import BatchNormalization, MaxPool1D, UpSampling1D\n",
        "from tensorflow.keras.layers import Concatenate, Add, Dropout, ReLU, Lambda, Activation, LeakyReLU, PReLU, Subtract, Reshape\n",
        "from IPython.display import SVG\n",
        "from tensorflow.keras.optimizers import SGD, Adam, RMSprop\n",
        "\n",
        "from time import time\n",
        "import numpy as np"
      ],
      "execution_count": null,
      "outputs": []
    },
    {
      "cell_type": "markdown",
      "metadata": {
        "id": "CSLdpZPgmJj9"
      },
      "source": [
        "##CPSC Data split"
      ]
    },
    {
      "cell_type": "code",
      "metadata": {
        "id": "fQDWzQ_xs1et"
      },
      "source": [
        "#Change the name of dataset, abels set and number of classes here for ablation study\n",
        "\n",
        "ecg_final_data_set = complete_ecg_500set\n",
        "ecg_final_data_labels = complete_ecg_500labels\n",
        "n_classes = 9"
      ],
      "execution_count": null,
      "outputs": []
    },
    {
      "cell_type": "code",
      "metadata": {
        "id": "wLG98ctF18Ca"
      },
      "source": [
        "from sklearn.model_selection import train_test_split\n",
        "from sklearn.utils import shuffle\n",
        "\n",
        "X_shuffled,y_shuffled = shuffle(ecg_final_data_set,ecg_final_data_labels, random_state=42)\n",
        "ecg_train, X_test_temp, labels_train, y_test_temp = train_test_split(X_shuffled, y_shuffled, test_size=0.3, random_state=42)\n",
        "\n",
        "ecg_validate, ecg_test,labels_validate,labels_test = train_test_split(X_test_temp,y_test_temp,test_size=0.5, random_state=42)"
      ],
      "execution_count": null,
      "outputs": []
    },
    {
      "cell_type": "code",
      "metadata": {
        "id": "z3PVHr-YY0eu"
      },
      "source": [
        "labels_train_onehot = tf.one_hot(labels_train,n_classes)\n",
        "labels_validate_onehot = tf.one_hot(labels_validate,n_classes)\n",
        "labels_test_onehot = tf.one_hot(labels_test,n_classes)"
      ],
      "execution_count": null,
      "outputs": []
    },
    {
      "cell_type": "code",
      "metadata": {
        "id": "rZk2uesLQi88"
      },
      "source": [
        "labels_srcnnop = tf.one_hot(srcnn_test_labels,n_classes)"
      ],
      "execution_count": null,
      "outputs": []
    },
    {
      "cell_type": "markdown",
      "metadata": {
        "id": "VtnhduGa5QNd"
      },
      "source": [
        "##Handling one hot labels"
      ]
    },
    {
      "cell_type": "code",
      "metadata": {
        "id": "Qp-Na2MR4Pva"
      },
      "source": [
        "#For binary case convert class labels from 1,2 to 0,1; and change last dense \n",
        "#layer to have single node and optimizer will be binary cross entropy"
      ],
      "execution_count": null,
      "outputs": []
    },
    {
      "cell_type": "code",
      "metadata": {
        "id": "gRbBPAAyxxZN"
      },
      "source": [
        "#handling one hot labels when labels dont begin with 0 and when number of classes more than 2\n",
        "import copy\n",
        "\n",
        "def get_modified_onehotlabels(tf_one_hot_labels,n_classes):\n",
        "  default_onehot = np.array(tf_one_hot_labels)\n",
        "  if n_classes == 3:\n",
        "    zerocol_last = default_onehot[:, [1,2,0]]\n",
        "  elif n_classes == 5:\n",
        "    zerocol_last = default_onehot[:, [1,2,3,4,0]]\n",
        "  elif n_classes == 6:\n",
        "    zerocol_last = default_onehot[:, [1,2,3,4,5,0]]\n",
        "  elif n_classes == 7:\n",
        "    zerocol_last = default_onehot[:, [1,2,3,4,5,6,0]]\n",
        "  elif n_classes == 9:\n",
        "    zerocol_last = default_onehot[:, [1,2,3,4,5,6,7,8,0]]\n",
        "  onehot_modified = copy.deepcopy(zerocol_last)\n",
        "  for item in onehot_modified:\n",
        "    if 1 not in item:\n",
        "      item[onehot_modified.shape[1] - 1] = 1\n",
        "  return onehot_modified"
      ],
      "execution_count": null,
      "outputs": []
    },
    {
      "cell_type": "code",
      "metadata": {
        "id": "MDEYwt_v6Xi1"
      },
      "source": [
        "labels_train_onehot_mod = get_modified_onehotlabels(labels_train_onehot,n_classes)\n",
        "labels_validate_onehot_mod = get_modified_onehotlabels(labels_validate_onehot,n_classes)\n",
        "labels_test_onehot_mod = get_modified_onehotlabels(labels_test_onehot,n_classes)"
      ],
      "execution_count": null,
      "outputs": []
    },
    {
      "cell_type": "code",
      "metadata": {
        "id": "Xw_mbPqeRqAA"
      },
      "source": [
        "labels_train_onehot_mod = labels_train_onehot_mod.astype(int)\n",
        "labels_validate_onehot_mod = labels_validate_onehot_mod.astype(int)\n",
        "labels_test_onehot_mod = labels_test_onehot_mod.astype(int)"
      ],
      "execution_count": null,
      "outputs": []
    },
    {
      "cell_type": "code",
      "metadata": {
        "id": "ezaGGTgUR3Sf"
      },
      "source": [
        "labels_train = labels_train.astype(int)\n",
        "labels_validate = labels_validate.astype(int)\n",
        "labels_test = labels_test.astype(int)"
      ],
      "execution_count": null,
      "outputs": []
    },
    {
      "cell_type": "code",
      "metadata": {
        "id": "XPCkA-KqQukS"
      },
      "source": [
        "labels_srcnnop_1hot_mod = get_modified_onehotlabels(labels_srcnnop,n_classes)\n",
        "labels_srcnnop_1hot_mod = labels_srcnnop_1hot_mod.astype(int)"
      ],
      "execution_count": null,
      "outputs": []
    },
    {
      "cell_type": "code",
      "metadata": {
        "colab": {
          "base_uri": "https://localhost:8080/"
        },
        "id": "mPP9ov9D6t-U",
        "outputId": "a3d57e7b-af47-4531-ffcb-d54870956412"
      },
      "source": [
        "print(labels_train[2])\n",
        "print(labels_train_onehot[2])\n",
        "print(labels_train_onehot_mod[2])"
      ],
      "execution_count": null,
      "outputs": [
        {
          "output_type": "stream",
          "text": [
            "4\n",
            "tf.Tensor([0. 0. 0. 0. 1. 0. 0. 0. 0.], shape=(9,), dtype=float32)\n",
            "[0 0 0 1 0 0 0 0 0]\n"
          ],
          "name": "stdout"
        }
      ]
    },
    {
      "cell_type": "code",
      "metadata": {
        "colab": {
          "base_uri": "https://localhost:8080/"
        },
        "id": "Fc9JQffN72K5",
        "outputId": "c6a32cdc-68af-4f22-b7e8-e477e28ba041"
      },
      "source": [
        "print(len(labels_train_onehot_mod))"
      ],
      "execution_count": null,
      "outputs": [
        {
          "output_type": "stream",
          "text": [
            "24433\n"
          ],
          "name": "stdout"
        }
      ]
    },
    {
      "cell_type": "markdown",
      "metadata": {
        "id": "IOz56_uLmUBF"
      },
      "source": [
        "##Dataset reshaping"
      ]
    },
    {
      "cell_type": "code",
      "metadata": {
        "id": "hO1PRWeE2GEb"
      },
      "source": [
        "input_shape = 3000, 1\n",
        "num_classes = n_classes"
      ],
      "execution_count": null,
      "outputs": []
    },
    {
      "cell_type": "code",
      "metadata": {
        "colab": {
          "base_uri": "https://localhost:8080/"
        },
        "id": "r4KcXa4NoIbJ",
        "outputId": "71efd2ab-9d10-4ad4-8f0f-f7c66c2fca90"
      },
      "source": [
        "X_train_cnn = np.reshape(ecg_train,(ecg_train.shape[0],ecg_train.shape[1],1))\n",
        "X_valid_cnn = np.reshape(ecg_validate,(ecg_validate.shape[0],ecg_validate.shape[1],1))\n",
        "X_test_cnn = np.reshape(ecg_test,(ecg_test.shape[0],ecg_test.shape[1],1))\n",
        "\n",
        "temp = np.concatenate((ecg_test,srcnn_test_set),axis=0)\n",
        "complete_test_cnn = np.reshape(temp,(temp.shape[0],temp.shape[1],1))\n",
        "complete_test_cnn_labels = np.concatenate((labels_test,srcnn_test_labels))\n",
        "\n",
        "print(X_train_cnn.shape)\n",
        "print(X_valid_cnn.shape)\n",
        "print(X_test_cnn.shape)\n",
        "print(complete_test_cnn.shape)\n",
        "print(complete_test_cnn_labels.shape)"
      ],
      "execution_count": null,
      "outputs": [
        {
          "output_type": "stream",
          "text": [
            "(24433, 3000, 1)\n",
            "(5236, 3000, 1)\n",
            "(5236, 3000, 1)\n",
            "(57595, 3000, 1)\n",
            "(57595,)\n"
          ],
          "name": "stdout"
        }
      ]
    },
    {
      "cell_type": "markdown",
      "metadata": {
        "id": "uiWTCgdy_8-k"
      },
      "source": [
        "##Ablation study: 3 networks for comparison"
      ]
    },
    {
      "cell_type": "markdown",
      "metadata": {
        "id": "TQfyHirImZrj"
      },
      "source": [
        "###1D-CNN : 10 layers"
      ]
    },
    {
      "cell_type": "markdown",
      "metadata": {
        "id": "rxhL1QMIt2JF"
      },
      "source": [
        "This network was used for comparison study for event-classification ablation study"
      ]
    },
    {
      "cell_type": "code",
      "metadata": {
        "colab": {
          "base_uri": "https://localhost:8080/"
        },
        "id": "-0lYGArN58qD",
        "outputId": "fc44ae10-3925-465c-ce80-36fc2d0d1ed2"
      },
      "source": [
        "input = Input(input_shape)\n",
        "\n",
        "model = Sequential()\n",
        "model.add(Conv1D(32,5,activation = 'relu',input_shape = input_shape))\n",
        "model.add(BatchNormalization())\n",
        "model.add(Conv1D(32,5,activation = 'relu'))\n",
        "model.add(MaxPool1D(strides=2))\n",
        "\n",
        "model.add(Conv1D(64,5,activation = 'relu'))\n",
        "model.add(MaxPool1D(strides=2))\n",
        "model.add(Conv1D(64,5,activation = 'relu'))\n",
        "model.add(MaxPool1D(strides=2))\n",
        "\n",
        "model.add(Conv1D(128,5,activation = 'relu'))\n",
        "model.add(MaxPool1D(strides=2))\n",
        "model.add(Conv1D(128,5,activation = 'relu'))\n",
        "model.add(MaxPool1D(strides=2))\n",
        "model.add(Dropout(0.5))\n",
        "\n",
        "model.add(Conv1D(256,5,activation = 'relu'))\n",
        "model.add(MaxPool1D(strides=2))\n",
        "model.add(Conv1D(256,5,activation = 'relu'))\n",
        "model.add(MaxPool1D(strides=2))\n",
        "\n",
        "model.add(Conv1D(512,5,activation = 'relu'))\n",
        "model.add(MaxPool1D(strides=2))\n",
        "model.add(Conv1D(512,5,activation = 'relu'))\n",
        "model.add(MaxPool1D(strides=2))\n",
        "\n",
        "model.add(Flatten())\n",
        "model.add(Dense(128, activation='relu'))\n",
        "model.add(Dropout(0.5))\n",
        "model.add(Dense(32, activation='relu'))\n",
        "model.add(Dense(num_classes, activation='softmax'))\n",
        "\n",
        "model.summary()"
      ],
      "execution_count": null,
      "outputs": [
        {
          "output_type": "stream",
          "text": [
            "Model: \"sequential\"\n",
            "_________________________________________________________________\n",
            "Layer (type)                 Output Shape              Param #   \n",
            "=================================================================\n",
            "conv1d (Conv1D)              (None, 2996, 32)          192       \n",
            "_________________________________________________________________\n",
            "batch_normalization (BatchNo (None, 2996, 32)          128       \n",
            "_________________________________________________________________\n",
            "conv1d_1 (Conv1D)            (None, 2992, 32)          5152      \n",
            "_________________________________________________________________\n",
            "max_pooling1d (MaxPooling1D) (None, 1496, 32)          0         \n",
            "_________________________________________________________________\n",
            "conv1d_2 (Conv1D)            (None, 1492, 64)          10304     \n",
            "_________________________________________________________________\n",
            "max_pooling1d_1 (MaxPooling1 (None, 746, 64)           0         \n",
            "_________________________________________________________________\n",
            "conv1d_3 (Conv1D)            (None, 742, 64)           20544     \n",
            "_________________________________________________________________\n",
            "max_pooling1d_2 (MaxPooling1 (None, 371, 64)           0         \n",
            "_________________________________________________________________\n",
            "conv1d_4 (Conv1D)            (None, 367, 128)          41088     \n",
            "_________________________________________________________________\n",
            "max_pooling1d_3 (MaxPooling1 (None, 183, 128)          0         \n",
            "_________________________________________________________________\n",
            "conv1d_5 (Conv1D)            (None, 179, 128)          82048     \n",
            "_________________________________________________________________\n",
            "max_pooling1d_4 (MaxPooling1 (None, 89, 128)           0         \n",
            "_________________________________________________________________\n",
            "dropout (Dropout)            (None, 89, 128)           0         \n",
            "_________________________________________________________________\n",
            "conv1d_6 (Conv1D)            (None, 85, 256)           164096    \n",
            "_________________________________________________________________\n",
            "max_pooling1d_5 (MaxPooling1 (None, 42, 256)           0         \n",
            "_________________________________________________________________\n",
            "conv1d_7 (Conv1D)            (None, 38, 256)           327936    \n",
            "_________________________________________________________________\n",
            "max_pooling1d_6 (MaxPooling1 (None, 19, 256)           0         \n",
            "_________________________________________________________________\n",
            "conv1d_8 (Conv1D)            (None, 15, 512)           655872    \n",
            "_________________________________________________________________\n",
            "max_pooling1d_7 (MaxPooling1 (None, 7, 512)            0         \n",
            "_________________________________________________________________\n",
            "conv1d_9 (Conv1D)            (None, 3, 512)            1311232   \n",
            "_________________________________________________________________\n",
            "max_pooling1d_8 (MaxPooling1 (None, 1, 512)            0         \n",
            "_________________________________________________________________\n",
            "flatten (Flatten)            (None, 512)               0         \n",
            "_________________________________________________________________\n",
            "dense (Dense)                (None, 128)               65664     \n",
            "_________________________________________________________________\n",
            "dropout_1 (Dropout)          (None, 128)               0         \n",
            "_________________________________________________________________\n",
            "dense_1 (Dense)              (None, 32)                4128      \n",
            "_________________________________________________________________\n",
            "dense_2 (Dense)              (None, 9)                 297       \n",
            "=================================================================\n",
            "Total params: 2,688,681\n",
            "Trainable params: 2,688,617\n",
            "Non-trainable params: 64\n",
            "_________________________________________________________________\n"
          ],
          "name": "stdout"
        }
      ]
    },
    {
      "cell_type": "markdown",
      "metadata": {
        "id": "A4X_USEgmfAu"
      },
      "source": [
        "###1D-CNN (13 Layers)"
      ]
    },
    {
      "cell_type": "markdown",
      "metadata": {
        "id": "RWqwzatYu1Hp"
      },
      "source": [
        "This network is replicated from the paper: https://www.sciencedirect.com/science/article/pii/S0167739X20305410"
      ]
    },
    {
      "cell_type": "code",
      "metadata": {
        "colab": {
          "base_uri": "https://localhost:8080/"
        },
        "id": "GMGLJSzFqVjm",
        "outputId": "0a8ecb99-ccdc-4a22-8660-c1ee12b2ea1d"
      },
      "source": [
        "input = Input(input_shape)\n",
        "\n",
        "model = Sequential()\n",
        "model.add(Conv1D(64,3,activation = 'relu',input_shape = input_shape))\n",
        "model.add(Conv1D(64,3,activation = 'relu'))\n",
        "model.add(MaxPool1D(strides=2))\n",
        "\n",
        "model.add(Conv1D(128,3,activation = 'relu'))\n",
        "model.add(Conv1D(128,3,activation = 'relu'))\n",
        "model.add(MaxPool1D(strides=2))\n",
        "\n",
        "model.add(Conv1D(256,3,activation = 'relu'))\n",
        "model.add(Conv1D(256,3,activation = 'relu'))\n",
        "model.add(Conv1D(256,3,activation = 'relu'))\n",
        "model.add(MaxPool1D(strides=2))\n",
        "\n",
        "model.add(Conv1D(512,3,activation = 'relu'))\n",
        "model.add(Conv1D(512,3,activation = 'relu'))\n",
        "model.add(Conv1D(512,3,activation = 'relu'))\n",
        "model.add(MaxPool1D(strides=2))\n",
        "\n",
        "model.add(Conv1D(512,3,activation = 'relu'))\n",
        "model.add(Conv1D(512,3,activation = 'relu'))\n",
        "model.add(Conv1D(512,3,activation = 'relu'))\n",
        "model.add(MaxPool1D(strides=2))\n",
        "\n",
        "model.add(Flatten())\n",
        "model.add(Dense(1000, activation='tanh'))\n",
        "model.add(Dense(1000, activation='tanh'))\n",
        "model.add(Dense(num_classes, activation='sigmoid'))\n",
        "\n",
        "model.summary()"
      ],
      "execution_count": null,
      "outputs": [
        {
          "output_type": "stream",
          "text": [
            "Model: \"sequential\"\n",
            "_________________________________________________________________\n",
            "Layer (type)                 Output Shape              Param #   \n",
            "=================================================================\n",
            "conv1d (Conv1D)              (None, 2998, 64)          256       \n",
            "_________________________________________________________________\n",
            "conv1d_1 (Conv1D)            (None, 2996, 64)          12352     \n",
            "_________________________________________________________________\n",
            "max_pooling1d (MaxPooling1D) (None, 1498, 64)          0         \n",
            "_________________________________________________________________\n",
            "conv1d_2 (Conv1D)            (None, 1496, 128)         24704     \n",
            "_________________________________________________________________\n",
            "conv1d_3 (Conv1D)            (None, 1494, 128)         49280     \n",
            "_________________________________________________________________\n",
            "max_pooling1d_1 (MaxPooling1 (None, 747, 128)          0         \n",
            "_________________________________________________________________\n",
            "conv1d_4 (Conv1D)            (None, 745, 256)          98560     \n",
            "_________________________________________________________________\n",
            "conv1d_5 (Conv1D)            (None, 743, 256)          196864    \n",
            "_________________________________________________________________\n",
            "conv1d_6 (Conv1D)            (None, 741, 256)          196864    \n",
            "_________________________________________________________________\n",
            "max_pooling1d_2 (MaxPooling1 (None, 370, 256)          0         \n",
            "_________________________________________________________________\n",
            "conv1d_7 (Conv1D)            (None, 368, 512)          393728    \n",
            "_________________________________________________________________\n",
            "conv1d_8 (Conv1D)            (None, 366, 512)          786944    \n",
            "_________________________________________________________________\n",
            "conv1d_9 (Conv1D)            (None, 364, 512)          786944    \n",
            "_________________________________________________________________\n",
            "max_pooling1d_3 (MaxPooling1 (None, 182, 512)          0         \n",
            "_________________________________________________________________\n",
            "conv1d_10 (Conv1D)           (None, 180, 512)          786944    \n",
            "_________________________________________________________________\n",
            "conv1d_11 (Conv1D)           (None, 178, 512)          786944    \n",
            "_________________________________________________________________\n",
            "conv1d_12 (Conv1D)           (None, 176, 512)          786944    \n",
            "_________________________________________________________________\n",
            "max_pooling1d_4 (MaxPooling1 (None, 88, 512)           0         \n",
            "_________________________________________________________________\n",
            "flatten (Flatten)            (None, 45056)             0         \n",
            "_________________________________________________________________\n",
            "dense (Dense)                (None, 1000)              45057000  \n",
            "_________________________________________________________________\n",
            "dense_1 (Dense)              (None, 1000)              1001000   \n",
            "_________________________________________________________________\n",
            "dense_2 (Dense)              (None, 9)                 9009      \n",
            "=================================================================\n",
            "Total params: 50,974,337\n",
            "Trainable params: 50,974,337\n",
            "Non-trainable params: 0\n",
            "_________________________________________________________________\n"
          ],
          "name": "stdout"
        }
      ]
    },
    {
      "cell_type": "markdown",
      "metadata": {
        "id": "fum6tpYPJE-S"
      },
      "source": [
        "###1D CNN: 1 layer"
      ]
    },
    {
      "cell_type": "code",
      "metadata": {
        "colab": {
          "base_uri": "https://localhost:8080/"
        },
        "id": "P2kc2oHkJEMq",
        "outputId": "e56f49f8-ccda-484e-e017-d3eb90bf42ed"
      },
      "source": [
        "from tensorflow.keras.models import Sequential\n",
        "from tensorflow.keras.layers import Dense , Flatten , Dropout, Conv1D\n",
        "from tensorflow.keras.utils import to_categorical\n",
        "\n",
        "model = Sequential()\n",
        "model.add(Conv1D(filters = 128, kernel_size = 5, activation = 'relu',input_shape = (3000,1)))\n",
        "model.add(Dropout(rate = 0.25))\n",
        "model.add(Flatten())\n",
        "model.add(Dense(9, activation='sigmoid'))\n",
        "model.summary()"
      ],
      "execution_count": null,
      "outputs": [
        {
          "output_type": "stream",
          "text": [
            "Model: \"sequential_1\"\n",
            "_________________________________________________________________\n",
            "Layer (type)                 Output Shape              Param #   \n",
            "=================================================================\n",
            "conv1d_1 (Conv1D)            (None, 2996, 128)         768       \n",
            "_________________________________________________________________\n",
            "dropout_1 (Dropout)          (None, 2996, 128)         0         \n",
            "_________________________________________________________________\n",
            "flatten_1 (Flatten)          (None, 383488)            0         \n",
            "_________________________________________________________________\n",
            "dense_1 (Dense)              (None, 9)                 3451401   \n",
            "=================================================================\n",
            "Total params: 3,452,169\n",
            "Trainable params: 3,452,169\n",
            "Non-trainable params: 0\n",
            "_________________________________________________________________\n"
          ],
          "name": "stdout"
        }
      ]
    },
    {
      "cell_type": "markdown",
      "metadata": {
        "id": "f_rSP3NzNCiT"
      },
      "source": [
        "###Proposed 1DCNN: 5 layers"
      ]
    },
    {
      "cell_type": "markdown",
      "metadata": {
        "id": "nclIYneswE96"
      },
      "source": [
        "This is the proposed model for event classification"
      ]
    },
    {
      "cell_type": "code",
      "metadata": {
        "colab": {
          "base_uri": "https://localhost:8080/"
        },
        "id": "mMGqKwguNG1h",
        "outputId": "af73d6ae-fff2-4fda-85ae-033be9e61260"
      },
      "source": [
        "input = Input(input_shape)\n",
        "\n",
        "model = Sequential()\n",
        "model.add(Conv1D(64,3,activation = 'relu',input_shape = input_shape))\n",
        "model.add(MaxPool1D(strides=2))\n",
        "\n",
        "model.add(Conv1D(128,3,activation = 'relu'))\n",
        "model.add(MaxPool1D(strides=2))\n",
        "\n",
        "model.add(Conv1D(256,3,activation = 'relu'))\n",
        "model.add(MaxPool1D(strides=2))\n",
        "\n",
        "model.add(Conv1D(512,3,activation = 'relu'))\n",
        "model.add(MaxPool1D(strides=2))\n",
        "\n",
        "model.add(Conv1D(512,3,activation = 'relu'))\n",
        "model.add(MaxPool1D(strides=2))\n",
        "\n",
        "model.add(Flatten())\n",
        "model.add(Dense(1000, activation='tanh'))\n",
        "model.add(Dense(num_classes, activation='sigmoid'))\n",
        "\n",
        "model.summary()"
      ],
      "execution_count": null,
      "outputs": [
        {
          "output_type": "stream",
          "text": [
            "Model: \"sequential\"\n",
            "_________________________________________________________________\n",
            "Layer (type)                 Output Shape              Param #   \n",
            "=================================================================\n",
            "conv1d (Conv1D)              (None, 2998, 64)          256       \n",
            "_________________________________________________________________\n",
            "max_pooling1d (MaxPooling1D) (None, 1499, 64)          0         \n",
            "_________________________________________________________________\n",
            "conv1d_1 (Conv1D)            (None, 1497, 128)         24704     \n",
            "_________________________________________________________________\n",
            "max_pooling1d_1 (MaxPooling1 (None, 748, 128)          0         \n",
            "_________________________________________________________________\n",
            "conv1d_2 (Conv1D)            (None, 746, 256)          98560     \n",
            "_________________________________________________________________\n",
            "max_pooling1d_2 (MaxPooling1 (None, 373, 256)          0         \n",
            "_________________________________________________________________\n",
            "conv1d_3 (Conv1D)            (None, 371, 512)          393728    \n",
            "_________________________________________________________________\n",
            "max_pooling1d_3 (MaxPooling1 (None, 185, 512)          0         \n",
            "_________________________________________________________________\n",
            "conv1d_4 (Conv1D)            (None, 183, 512)          786944    \n",
            "_________________________________________________________________\n",
            "max_pooling1d_4 (MaxPooling1 (None, 91, 512)           0         \n",
            "_________________________________________________________________\n",
            "flatten (Flatten)            (None, 46592)             0         \n",
            "_________________________________________________________________\n",
            "dense (Dense)                (None, 1000)              46593000  \n",
            "_________________________________________________________________\n",
            "dense_1 (Dense)              (None, 9)                 9009      \n",
            "=================================================================\n",
            "Total params: 47,906,201\n",
            "Trainable params: 47,906,201\n",
            "Non-trainable params: 0\n",
            "_________________________________________________________________\n"
          ],
          "name": "stdout"
        }
      ]
    },
    {
      "cell_type": "markdown",
      "metadata": {
        "id": "W3Jo8wiYmili"
      },
      "source": [
        "##Compile and train the model"
      ]
    },
    {
      "cell_type": "code",
      "metadata": {
        "id": "tmzUXKxRqSFD"
      },
      "source": [
        "K.clear_session()\n",
        "optimizer = Adam(learning_rate=0.0001) \n",
        "model.compile(loss=tf.keras.losses.CategoricalCrossentropy(from_logits=False), optimizer=optimizer, metrics=['categorical_accuracy'])"
      ],
      "execution_count": null,
      "outputs": []
    },
    {
      "cell_type": "code",
      "metadata": {
        "id": "T9Urf0yn1WWI"
      },
      "source": [
        "tf.config.run_functions_eagerly(True)"
      ],
      "execution_count": null,
      "outputs": []
    },
    {
      "cell_type": "code",
      "metadata": {
        "id": "gOMDZ6xGx3Zi",
        "colab": {
          "base_uri": "https://localhost:8080/"
        },
        "outputId": "88d42aef-28e3-4d46-99ac-cf0ff223e932"
      },
      "source": [
        "model.fit(X_train_cnn, labels_train_onehot_mod, epochs = 10,batch_size=64, validation_data=(X_valid_cnn,labels_validate_onehot_mod), verbose = 1)"
      ],
      "execution_count": null,
      "outputs": [
        {
          "output_type": "stream",
          "text": [
            "/usr/local/lib/python3.7/dist-packages/tensorflow/python/data/ops/dataset_ops.py:3704: UserWarning: Even though the `tf.config.experimental_run_functions_eagerly` option is set, this option does not apply to tf.data functions. To force eager execution of tf.data functions, please use `tf.data.experimental.enable.debug_mode()`.\n",
            "  \"Even though the `tf.config.experimental_run_functions_eagerly` \"\n"
          ],
          "name": "stderr"
        },
        {
          "output_type": "stream",
          "text": [
            "Epoch 1/10\n",
            "382/382 [==============================] - 71s 106ms/step - loss: 0.0481 - categorical_accuracy: 0.9894 - val_loss: 1.1811e-05 - val_categorical_accuracy: 1.0000\n",
            "Epoch 2/10\n",
            "382/382 [==============================] - 38s 101ms/step - loss: 4.1578e-06 - categorical_accuracy: 1.0000 - val_loss: 2.1302e-06 - val_categorical_accuracy: 1.0000\n",
            "Epoch 3/10\n",
            "382/382 [==============================] - 39s 102ms/step - loss: 1.0829e-06 - categorical_accuracy: 1.0000 - val_loss: 8.3085e-07 - val_categorical_accuracy: 1.0000\n",
            "Epoch 4/10\n",
            "382/382 [==============================] - 41s 108ms/step - loss: 4.9200e-07 - categorical_accuracy: 1.0000 - val_loss: 4.4001e-07 - val_categorical_accuracy: 1.0000\n",
            "Epoch 5/10\n",
            "382/382 [==============================] - 39s 102ms/step - loss: 2.7701e-07 - categorical_accuracy: 1.0000 - val_loss: 2.6860e-07 - val_categorical_accuracy: 1.0000\n",
            "Epoch 6/10\n",
            "382/382 [==============================] - 41s 108ms/step - loss: 1.7562e-07 - categorical_accuracy: 1.0000 - val_loss: 1.7708e-07 - val_categorical_accuracy: 1.0000\n",
            "Epoch 7/10\n",
            "382/382 [==============================] - 39s 102ms/step - loss: 1.1978e-07 - categorical_accuracy: 1.0000 - val_loss: 1.2438e-07 - val_categorical_accuracy: 1.0000\n",
            "Epoch 8/10\n",
            "382/382 [==============================] - 39s 102ms/step - loss: 8.5997e-08 - categorical_accuracy: 1.0000 - val_loss: 9.2116e-08 - val_categorical_accuracy: 1.0000\n",
            "Epoch 9/10\n",
            "382/382 [==============================] - 41s 108ms/step - loss: 6.4364e-08 - categorical_accuracy: 1.0000 - val_loss: 6.9531e-08 - val_categorical_accuracy: 1.0000\n",
            "Epoch 10/10\n",
            "382/382 [==============================] - 39s 102ms/step - loss: 4.9117e-08 - categorical_accuracy: 1.0000 - val_loss: 5.4277e-08 - val_categorical_accuracy: 1.0000\n"
          ],
          "name": "stdout"
        },
        {
          "output_type": "execute_result",
          "data": {
            "text/plain": [
              "<tensorflow.python.keras.callbacks.History at 0x7f5456119f90>"
            ]
          },
          "metadata": {
            "tags": []
          },
          "execution_count": 24
        }
      ]
    },
    {
      "cell_type": "markdown",
      "metadata": {
        "id": "rC4XwIiibAu5"
      },
      "source": [
        "##Saving the model for later usage\n"
      ]
    },
    {
      "cell_type": "code",
      "metadata": {
        "id": "9qW0afM-bDzn"
      },
      "source": [
        "model.save('ECG_1DCNN_9classes_srcnn20percent.h5') "
      ],
      "execution_count": null,
      "outputs": []
    },
    {
      "cell_type": "code",
      "metadata": {
        "colab": {
          "base_uri": "https://localhost:8080/",
          "height": 35
        },
        "id": "rM8iJ_vnmfyK",
        "outputId": "d94daf73-ec96-4655-bed5-32869ef2518e"
      },
      "source": [
        "import shutil\n",
        "\n",
        "shutil.move('ECG_1DCNN_9classes_srcnn20percent.h5',\"/content/drive/My Drive/\")"
      ],
      "execution_count": null,
      "outputs": [
        {
          "output_type": "execute_result",
          "data": {
            "application/vnd.google.colaboratory.intrinsic+json": {
              "type": "string"
            },
            "text/plain": [
              "'/content/drive/My Drive/ECG_1DCNN_9classes_srcnn20percent.h5'"
            ]
          },
          "metadata": {
            "tags": []
          },
          "execution_count": 26
        }
      ]
    },
    {
      "cell_type": "markdown",
      "metadata": {
        "id": "IXz3aWLPtV8l"
      },
      "source": [
        "##Get schematic of model"
      ]
    },
    {
      "cell_type": "code",
      "metadata": {
        "id": "MLRe4SextQC9"
      },
      "source": [
        "from IPython.display import SVG\n",
        "from keras.utils.vis_utils import model_to_dot\n",
        "\n",
        "SVG(model_to_dot(model).create(prog='dot', format='svg'))"
      ],
      "execution_count": null,
      "outputs": []
    },
    {
      "cell_type": "code",
      "metadata": {
        "colab": {
          "base_uri": "https://localhost:8080/",
          "height": 1000
        },
        "id": "EUDfylnTX7Wd",
        "outputId": "bc7326f5-baaa-47b9-c456-58f15140443a"
      },
      "source": [
        "tf.keras.utils.plot_model(\n",
        "    model, to_file='ECG_event_cnn.png', show_shapes=True, show_dtype=False,\n",
        "    show_layer_names=True, rankdir='TB', expand_nested=False, dpi=96\n",
        ")"
      ],
      "execution_count": null,
      "outputs": [
        {
          "output_type": "execute_result",
          "data": {
            "image/png": "[encoded data removed]",
            "text/plain": [
              "<IPython.core.display.Image object>"
            ]
          },
          "metadata": {
            "tags": []
          },
          "execution_count": 14
        }
      ]
    },
    {
      "cell_type": "markdown",
      "metadata": {
        "id": "-i4Gc7XVl08h"
      },
      "source": [
        "##Testing"
      ]
    },
    {
      "cell_type": "code",
      "metadata": {
        "colab": {
          "base_uri": "https://localhost:8080/"
        },
        "id": "UvqmiVeyl26y",
        "outputId": "8cefd2e3-f676-4e10-ea9f-1c81986a84d5"
      },
      "source": [
        "model.evaluate(X_test_cnn,labels_test_onehot_mod)"
      ],
      "execution_count": null,
      "outputs": [
        {
          "output_type": "stream",
          "text": [
            "/usr/local/lib/python3.7/dist-packages/tensorflow/python/data/ops/dataset_ops.py:3704: UserWarning: Even though the `tf.config.experimental_run_functions_eagerly` option is set, this option does not apply to tf.data functions. To force eager execution of tf.data functions, please use `tf.data.experimental.enable.debug_mode()`.\n",
            "  \"Even though the `tf.config.experimental_run_functions_eagerly` \"\n"
          ],
          "name": "stderr"
        },
        {
          "output_type": "stream",
          "text": [
            "164/164 [==============================] - 4s 21ms/step - loss: 5.0111e-08 - categorical_accuracy: 1.0000\n"
          ],
          "name": "stdout"
        },
        {
          "output_type": "execute_result",
          "data": {
            "text/plain": [
              "[5.011056458670282e-08, 1.0]"
            ]
          },
          "metadata": {
            "tags": []
          },
          "execution_count": 27
        }
      ]
    },
    {
      "cell_type": "code",
      "metadata": {
        "id": "qUqneejVmeBw"
      },
      "source": [
        "event_model = tf.keras.models.load_model('/content/drive/My Drive/ECG_1DCNN_9classes_srcnn20percent.h5')"
      ],
      "execution_count": null,
      "outputs": []
    },
    {
      "cell_type": "code",
      "metadata": {
        "id": "hvzgs0z5SQtC"
      },
      "source": [
        "temp_test_srcnnlabels = tf.one_hot(complete_test_cnn_labels,n_classes)\n",
        "final_complete_Setlabels = get_modified_onehotlabels(temp_test_srcnnlabels,n_classes)"
      ],
      "execution_count": null,
      "outputs": []
    },
    {
      "cell_type": "code",
      "metadata": {
        "id": "8X11WYD6RcdH"
      },
      "source": [
        "event_model.evaluate(complete_test_cnn,final_complete_Setlabels)"
      ],
      "execution_count": null,
      "outputs": []
    },
    {
      "cell_type": "markdown",
      "metadata": {
        "id": "rVaA2438KT_b"
      },
      "source": [
        "#Functions to calculate metrics"
      ]
    },
    {
      "cell_type": "markdown",
      "metadata": {
        "id": "pEhejkyBxUHn"
      },
      "source": [
        "Here we calculate common metrics like accuracy and F1 score to analyse the performance of the network."
      ]
    },
    {
      "cell_type": "code",
      "metadata": {
        "id": "x3DDuRIoiDBm"
      },
      "source": [
        "from sklearn.metrics import log_loss, accuracy_score, precision_score, recall_score, f1_score\n",
        "\n",
        "def print_report(y_actual, y_pred):\n",
        "    accuracy = accuracy_score(y_actual, y_pred)\n",
        "    \n",
        "    recall = recall_score(y_actual, y_pred, average='micro')\n",
        "    precision = precision_score(y_actual, y_pred, average='micro')\n",
        "    score_f1 = f1_score(y_actual, y_pred, average='micro')\n",
        "    \n",
        "    print(\"Accuracy:\",accuracy)\n",
        "    print(\"Recall:\",recall)\n",
        "    print(\"Precision:\",precision)\n",
        "    print(\"F1_score:\",score_f1)\n",
        "    print(\"\\n\")"
      ],
      "execution_count": null,
      "outputs": []
    },
    {
      "cell_type": "code",
      "metadata": {
        "colab": {
          "base_uri": "https://localhost:8080/"
        },
        "id": "Swq0hjYIPEWW",
        "outputId": "9d51973f-6fab-4861-ef98-6067d5b0f764"
      },
      "source": [
        "y_train_preds_dense = event_model.predict(X_train_cnn,verbose = 1)\n",
        "y_valid_preds_dense = event_model.predict(X_valid_cnn,verbose = 1)\n",
        "y_test_preds_dense = event_model.predict(X_test_cnn,verbose = 1)"
      ],
      "execution_count": null,
      "outputs": [
        {
          "output_type": "stream",
          "text": [
            "  7/764 [..............................] - ETA: 14s"
          ],
          "name": "stdout"
        },
        {
          "output_type": "stream",
          "text": [
            "/usr/local/lib/python3.7/dist-packages/tensorflow/python/data/ops/dataset_ops.py:3704: UserWarning: Even though the `tf.config.experimental_run_functions_eagerly` option is set, this option does not apply to tf.data functions. To force eager execution of tf.data functions, please use `tf.data.experimental.enable.debug_mode()`.\n",
            "  \"Even though the `tf.config.experimental_run_functions_eagerly` \"\n"
          ],
          "name": "stderr"
        },
        {
          "output_type": "stream",
          "text": [
            "764/764 [==============================] - 11s 14ms/step\n",
            "164/164 [==============================] - 2s 14ms/step\n",
            "164/164 [==============================] - 2s 14ms/step\n"
          ],
          "name": "stdout"
        }
      ]
    },
    {
      "cell_type": "code",
      "metadata": {
        "colab": {
          "base_uri": "https://localhost:8080/"
        },
        "id": "Q9uYxuANTVty",
        "outputId": "5566dbd4-81e5-47c4-f259-f03aae169a84"
      },
      "source": [
        "predict_op_complete_test = event_model.predict(complete_test_cnn, verbose=1)"
      ],
      "execution_count": null,
      "outputs": [
        {
          "output_type": "stream",
          "text": [
            "   9/1800 [..............................] - ETA: 26s"
          ],
          "name": "stdout"
        },
        {
          "output_type": "stream",
          "text": [
            "/usr/local/lib/python3.7/dist-packages/tensorflow/python/data/ops/dataset_ops.py:3704: UserWarning: Even though the `tf.config.experimental_run_functions_eagerly` option is set, this option does not apply to tf.data functions. To force eager execution of tf.data functions, please use `tf.data.experimental.enable.debug_mode()`.\n",
            "  \"Even though the `tf.config.experimental_run_functions_eagerly` \"\n"
          ],
          "name": "stderr"
        },
        {
          "output_type": "stream",
          "text": [
            "1800/1800 [==============================] - 26s 14ms/step\n"
          ],
          "name": "stdout"
        }
      ]
    },
    {
      "cell_type": "code",
      "metadata": {
        "id": "sf11E5YrVT30"
      },
      "source": [
        "srcnn_test_set_cnn = np.reshape(srcnn_test_set,(srcnn_test_set.shape[0],srcnn_test_set.shape[1],1))"
      ],
      "execution_count": null,
      "outputs": []
    },
    {
      "cell_type": "code",
      "metadata": {
        "id": "oIZFXojHV7iV"
      },
      "source": [
        "srcnn_test_labels_1hotmod = get_modified_onehotlabels(labels_srcnnop,n_classes)"
      ],
      "execution_count": null,
      "outputs": []
    },
    {
      "cell_type": "code",
      "metadata": {
        "colab": {
          "base_uri": "https://localhost:8080/"
        },
        "id": "Ih3gplEEVNW7",
        "outputId": "948bf1b7-5067-4232-84ec-435bad6fc283"
      },
      "source": [
        "srcnn_op_labels_events = event_model.predict(srcnn_test_set_cnn,verbose = 1)"
      ],
      "execution_count": null,
      "outputs": [
        {
          "output_type": "stream",
          "text": [
            "   7/1637 [..............................] - ETA: 32s"
          ],
          "name": "stdout"
        },
        {
          "output_type": "stream",
          "text": [
            "/usr/local/lib/python3.7/dist-packages/tensorflow/python/data/ops/dataset_ops.py:3704: UserWarning: Even though the `tf.config.experimental_run_functions_eagerly` option is set, this option does not apply to tf.data functions. To force eager execution of tf.data functions, please use `tf.data.experimental.enable.debug_mode()`.\n",
            "  \"Even though the `tf.config.experimental_run_functions_eagerly` \"\n"
          ],
          "name": "stderr"
        },
        {
          "output_type": "stream",
          "text": [
            "1637/1637 [==============================] - 23s 14ms/step\n"
          ],
          "name": "stdout"
        }
      ]
    },
    {
      "cell_type": "code",
      "metadata": {
        "id": "tD8uwsmWPKdG"
      },
      "source": [
        "def get_int_labels(pred_op_onehot,n_classes):\n",
        "\n",
        "  final_labels_int = []\n",
        "  \n",
        "  if n_classes == 3:\n",
        "    for i in pred_op_onehot:\n",
        "      if i[0] == 1:\n",
        "        final_labels_int.append(1)\n",
        "      elif i[1] == 1:\n",
        "        final_labels_int.append(2)\n",
        "      elif i[2] == 1:\n",
        "        final_labels_int.append(3)\n",
        "\n",
        "  elif n_classes == 5:\n",
        "    for i in pred_op_onehot:\n",
        "      inde_max = np.where(i == np.max(i))\n",
        "      \n",
        "      if inde_max[0][0] == 0:\n",
        "        final_labels_int.append(1)\n",
        "      elif inde_max[0][0] == 1:\n",
        "        final_labels_int.append(2)\n",
        "      elif inde_max[0][0] == 2:\n",
        "        final_labels_int.append(3)\n",
        "      elif inde_max[0][0] == 3:\n",
        "        final_labels_int.append(4)\n",
        "      elif inde_max[0][0] == 4:\n",
        "        final_labels_int.append(5)\n",
        "  \n",
        "  elif n_classes == 6:\n",
        "    for i in pred_op_onehot:\n",
        "      inde_max = np.where(i == np.max(i))\n",
        "      \n",
        "      if inde_max[0][0] == 0:\n",
        "        final_labels_int.append(1)\n",
        "      elif inde_max[0][0] == 1:\n",
        "        final_labels_int.append(2)\n",
        "      elif inde_max[0][0] == 2:\n",
        "        final_labels_int.append(3)\n",
        "      elif inde_max[0][0] == 3:\n",
        "        final_labels_int.append(4)\n",
        "      elif inde_max[0][0] == 4:\n",
        "        final_labels_int.append(5)\n",
        "      elif inde_max[0][0] == 5:\n",
        "        final_labels_int.append(6)\n",
        "  \n",
        "  elif n_classes == 9:\n",
        "    for i in pred_op_onehot:\n",
        "      inde_max = np.where(i == np.max(i))\n",
        "      \n",
        "      if inde_max[0][0] == 0:\n",
        "        final_labels_int.append(1)\n",
        "      elif inde_max[0][0] == 1:\n",
        "        final_labels_int.append(2)\n",
        "      elif inde_max[0][0] == 2:\n",
        "        final_labels_int.append(3)\n",
        "      elif inde_max[0][0] == 3:\n",
        "        final_labels_int.append(4)\n",
        "      elif inde_max[0][0] == 4:\n",
        "        final_labels_int.append(5)\n",
        "      elif inde_max[0][0] == 5:\n",
        "        final_labels_int.append(6)\n",
        "      elif inde_max[0][0] == 6:\n",
        "        final_labels_int.append(7)\n",
        "      elif inde_max[0][0] == 7:\n",
        "        final_labels_int.append(8)\n",
        "      elif inde_max[0][0] == 8:\n",
        "        final_labels_int.append(9)\n",
        "  return np.array(final_labels_int)"
      ],
      "execution_count": null,
      "outputs": []
    },
    {
      "cell_type": "code",
      "metadata": {
        "id": "WrNmFZ2gPxez"
      },
      "source": [
        "final_labels_int_train = get_int_labels(y_train_preds_dense,n_classes)\n",
        "final_labels_int_val = get_int_labels(y_valid_preds_dense,n_classes)\n",
        "final_labels_int_test = get_int_labels(y_test_preds_dense,n_classes)"
      ],
      "execution_count": null,
      "outputs": []
    },
    {
      "cell_type": "code",
      "metadata": {
        "id": "YHw_8A_6UCRm"
      },
      "source": [
        "finalcomplete_test_int = get_int_labels(predict_op_complete_test,n_classes)"
      ],
      "execution_count": null,
      "outputs": []
    },
    {
      "cell_type": "code",
      "metadata": {
        "id": "xXmVy6sFWbce"
      },
      "source": [
        "srcnn_op_int = get_int_labels(srcnn_op_labels_events,n_classes)"
      ],
      "execution_count": null,
      "outputs": []
    },
    {
      "cell_type": "code",
      "metadata": {
        "colab": {
          "base_uri": "https://localhost:8080/"
        },
        "id": "rfKIHkcV-b8A",
        "outputId": "6b452ade-171b-4f53-ef7b-721bccd74b5a"
      },
      "source": [
        "print(\"SRCNN test set:\\n\")\n",
        "print_report(srcnn_test_labels,srcnn_op_int)"
      ],
      "execution_count": null,
      "outputs": [
        {
          "output_type": "stream",
          "text": [
            "SRCNN test set:\n",
            "\n",
            "Accuracy: 1.0\n",
            "Recall: 1.0\n",
            "Precision: 1.0\n",
            "F1_score: 1.0\n",
            "\n",
            "\n"
          ],
          "name": "stdout"
        }
      ]
    },
    {
      "cell_type": "code",
      "metadata": {
        "id": "JN9dQcliiDz7"
      },
      "source": [
        "print('Train:\\n')\n",
        "print_report(labels_train, final_labels_int_train)\n",
        "print('Valid:\\n')\n",
        "print_report(labels_validate, final_labels_int_val)\n",
        "\n",
        "print('Test:\\n')\n",
        "print_report(labels_test, final_labels_int_test)\n",
        "\n",
        "print(\"Cascaded:\\n\")\n",
        "print_report(complete_test_cnn_labels,finalcomplete_test_int)"
      ],
      "execution_count": null,
      "outputs": []
    },
    {
      "cell_type": "markdown",
      "metadata": {
        "id": "8D0MAmm2uw8P"
      },
      "source": [
        "#Confusion metrics"
      ]
    },
    {
      "cell_type": "markdown",
      "metadata": {
        "id": "BnRhnnmqxGUb"
      },
      "source": [
        "Here, we make the confusion matrix for better visualization of the network performance."
      ]
    },
    {
      "cell_type": "code",
      "metadata": {
        "id": "um25KPtZIDPY"
      },
      "source": [
        "from matplotlib import pyplot as plt\n",
        "import seaborn as sns\n",
        "\n",
        "def make_confusion_matrix(cf,\n",
        "                          group_names=None,\n",
        "                          categories='auto',\n",
        "                          count=True,\n",
        "                          percent=True,\n",
        "                          cbar=True,\n",
        "                          xyticks=True,\n",
        "                          xyplotlabels=True,\n",
        "                          sum_stats=True,\n",
        "                          figsize=None,\n",
        "                          cmap='icefire',\n",
        "                          title=None):\n",
        "    '''\n",
        "    This function will make a pretty plot of an sklearn Confusion Matrix cm using a Seaborn heatmap visualization.\n",
        "    Arguments\n",
        "    ---------\n",
        "    cf:            confusion matrix to be passed in\n",
        "    group_names:   List of strings that represent the labels row by row to be shown in each square.\n",
        "    categories:    List of strings containing the categories to be displayed on the x,y axis. Default is 'auto'\n",
        "    count:         If True, show the raw number in the confusion matrix. Default is True.\n",
        "    normalize:     If True, show the proportions for each category. Default is True.\n",
        "    cbar:          If True, show the color bar. The cbar values are based off the values in the confusion matrix.\n",
        "                   Default is True.\n",
        "    xyticks:       If True, show x and y ticks. Default is True.\n",
        "    xyplotlabels:  If True, show 'True Label' and 'Predicted Label' on the figure. Default is True.\n",
        "    sum_stats:     If True, display summary statistics below the figure. Default is True.\n",
        "    figsize:       Tuple representing the figure size. Default will be the matplotlib rcParams value.\n",
        "    cmap:          Colormap of the values displayed from matplotlib.pyplot.cm. Default is 'Blues'\n",
        "                   See http://matplotlib.org/examples/color/colormaps_reference.html\n",
        "                   \n",
        "    title:         Title for the heatmap. Default is None.\n",
        "    '''\n",
        "\n",
        "\n",
        "    # CODE TO GENERATE TEXT INSIDE EACH SQUARE\n",
        "    blanks = ['' for i in range(cf.size)]\n",
        "\n",
        "    if group_names and len(group_names)==cf.size:\n",
        "        group_labels = [\"{}\\n\".format(value) for value in group_names]\n",
        "    else:\n",
        "        group_labels = blanks\n",
        "\n",
        "    if count:\n",
        "        group_counts = [\"{0:0.0f}\\n\".format(value) for value in cf.flatten()]\n",
        "    else:\n",
        "        group_counts = blanks\n",
        "\n",
        "    if percent:\n",
        "        group_percentages = [\"{0:.2%}\".format(value) for value in cf.flatten()/np.sum(cf)]\n",
        "    else:\n",
        "        group_percentages = blanks\n",
        "\n",
        "    box_labels = [f\"{v1}{v2}{v3}\".strip() for v1, v2, v3 in zip(group_labels,group_counts,group_percentages)]\n",
        "    box_labels = np.asarray(box_labels).reshape(cf.shape[0],cf.shape[1])\n",
        "\n",
        "\n",
        "    # CODE TO GENERATE SUMMARY STATISTICS & TEXT FOR SUMMARY STATS\n",
        "    if sum_stats:\n",
        "        #Accuracy is sum of diagonal divided by total observations\n",
        "        accuracy  = np.trace(cf) / float(np.sum(cf))\n",
        "\n",
        "        #if it is a binary confusion matrix, show some more stats\n",
        "        if len(cf)==2:\n",
        "            #Metrics for Binary Confusion Matrices\n",
        "            precision = cf[1,1] / sum(cf[:,1])\n",
        "            recall    = cf[1,1] / sum(cf[1,:])\n",
        "            f1_score  = 2*precision*recall / (precision + recall)\n",
        "            stats_text = \"\\n\\nAccuracy={:0.3f}\\nPrecision={:0.3f}\\nRecall={:0.3f}\\nF1 Score={:0.3f}\".format(\n",
        "                accuracy,precision,recall,f1_score)\n",
        "        else:\n",
        "            stats_text = \"\\n\\nAccuracy={:0.3f}\".format(accuracy)\n",
        "    else:\n",
        "        stats_text = \"\"\n",
        "\n",
        "\n",
        "    # SET FIGURE PARAMETERS ACCORDING TO OTHER ARGUMENTS\n",
        "    if figsize==None:\n",
        "        #Get default figure size if not set\n",
        "        figsize = plt.rcParams.get('figure.figsize')\n",
        "\n",
        "    if xyticks==False:\n",
        "        #Do not show categories if xyticks is False\n",
        "        categories=False\n",
        "\n",
        "\n",
        "    # MAKE THE HEATMAP VISUALIZATION\n",
        "    plt.figure(figsize=figsize)\n",
        "    sns.heatmap(cf,annot=box_labels,fmt=\"\",cmap=cmap,cbar=cbar,xticklabels=categories,yticklabels=categories)\n",
        "\n",
        "    if xyplotlabels:\n",
        "        plt.ylabel('True label')\n",
        "        plt.xlabel('Predicted label' + stats_text)\n",
        "    else:\n",
        "        plt.xlabel(stats_text)\n",
        "    \n",
        "    if title:\n",
        "        plt.title(title)\n",
        "\n",
        "    plt.show()"
      ],
      "execution_count": null,
      "outputs": []
    },
    {
      "cell_type": "code",
      "metadata": {
        "colab": {
          "base_uri": "https://localhost:8080/"
        },
        "id": "rWcJdMXduzcC",
        "outputId": "12123983-78fd-4924-d6f8-223e86788c1d"
      },
      "source": [
        "from sklearn.metrics import confusion_matrix\n",
        "\n",
        "cf_matrix = confusion_matrix(labels_test, final_labels_int_test)\n",
        "print(cf_matrix)"
      ],
      "execution_count": null,
      "outputs": [
        {
          "output_type": "stream",
          "text": [
            "[[592   0   0   0   0   0   0   0   0]\n",
            " [  0 615   0   0   0   0   0   0   0]\n",
            " [  0   0 608   0   0   0   0   0   0]\n",
            " [  0   0   0 578   0   0   0   0   0]\n",
            " [  0   0   0   0 626   0   0   0   0]\n",
            " [  0   0   0   0   0 541   0   0   0]\n",
            " [  0   0   0   0   0   0 555   0   0]\n",
            " [  0   0   0   0   0   0   0 539   0]\n",
            " [  0   0   0   0   0   0   0   0 582]]\n"
          ],
          "name": "stdout"
        }
      ]
    },
    {
      "cell_type": "code",
      "metadata": {
        "colab": {
          "base_uri": "https://localhost:8080/",
          "height": 876
        },
        "id": "sG1E-XItxtvG",
        "outputId": "68708e9d-2eaf-4b6c-d51c-e05d07feb029"
      },
      "source": [
        "make_confusion_matrix(cf_matrix,\n",
        "                          categories=['N','AF','I-VAB','LBBB','RBBB','PAC','PVC','STD','STE'],\n",
        "                          count=True,\n",
        "                          percent=False,\n",
        "                          cbar=True,\n",
        "                          xyticks=True,\n",
        "                          xyplotlabels=True,\n",
        "                          sum_stats=False,\n",
        "                          figsize=(15,15),\n",
        "                          cmap='YlOrBr',\n",
        "                          title=None)"
      ],
      "execution_count": null,
      "outputs": [
        {
          "output_type": "display_data",
          "data": {
            "image/png": "[encoded data removed]",
            "text/plain": [
              "<Figure size 1080x1080 with 2 Axes>"
            ]
          },
          "metadata": {
            "tags": [],
            "needs_background": "light"
          }
        }
      ]
    },
    {
      "cell_type": "code",
      "metadata": {
        "id": "anV6x-UDR0VN"
      },
      "source": [
        "cf_matrix1 = confusion_matrix(srcnn_test_labels,srcnn_op_int)"
      ],
      "execution_count": null,
      "outputs": []
    },
    {
      "cell_type": "code",
      "metadata": {
        "colab": {
          "base_uri": "https://localhost:8080/",
          "height": 876
        },
        "id": "je1ces20R9fN",
        "outputId": "4366ecda-2e8c-469e-8c11-3aa1baabea09"
      },
      "source": [
        "make_confusion_matrix(cf_matrix1,\n",
        "                          categories=['N','AF','I-VAB','LBBB','RBBB','PAC','PVC','STD','STE'],\n",
        "                          count=True,\n",
        "                          percent=False,\n",
        "                          cbar=True,\n",
        "                          xyticks=True,\n",
        "                          xyplotlabels=True,\n",
        "                          sum_stats=False,\n",
        "                          figsize=(15,15),\n",
        "                          cmap='icefire',\n",
        "                          title=None)"
      ],
      "execution_count": null,
      "outputs": [
        {
          "output_type": "display_data",
          "data": {
            "image/png": "[encoded data removed]",
            "text/plain": [
              "<Figure size 1080x1080 with 2 Axes>"
            ]
          },
          "metadata": {
            "tags": [],
            "needs_background": "light"
          }
        }
      ]
    }
  ]
}